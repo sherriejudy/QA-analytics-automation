{
 "cells": [
  {
   "cell_type": "markdown",
   "metadata": {},
   "source": [
    "### QA Generalizer"
   ]
  },
  {
   "cell_type": "code",
   "execution_count": null,
   "metadata": {},
   "outputs": [],
   "source": [
    "def QA_generalize (repoPath, config):\n",
    "    import pandas as pd\n",
    "    import os\n",
    "    import time\n",
    "    from selenium import webdriver\n",
    "    from selenium.webdriver.common.keys import Keys\n",
    "    from selenium.webdriver.chrome.options import Options\n",
    "    from selenium.webdriver.common.by import By\n",
    "    from selenium.webdriver.support.ui import WebDriverWait\n",
    "    from selenium.webdriver.support import expected_conditions as EC\n",
    "    from pathlib import Path\n",
    "    \n",
    "    driverPath = str(Path(repoPath + '/chromedriver'))\n",
    "    unpacked_extension_path = str(Path(repoPath + '/adobe-debugger'))\n",
    "    unpacked_extension_path2 = str(Path(repoPath + '/seleniumIDE'))\n",
    "    options = Options()\n",
    "\n",
    "    options.add_argument('--load-extension={},{}'.format(unpacked_extension_path,unpacked_extension_path2))\n",
    "    driver = webdriver.Chrome(driverPath, options=options)"
   ]
  },
  {
   "cell_type": "code",
   "execution_count": null,
   "metadata": {},
   "outputs": [
    {
     "name": "stdout",
     "output_type": "stream",
     "text": [
      "Press Ctrl+C\n"
     ]
    }
   ],
   "source": [
    "import pandas as pd\n",
    "import os\n",
    "import time\n",
    "from selenium import webdriver\n",
    "from selenium.webdriver.common.keys import Keys\n",
    "from selenium.webdriver.chrome.options import Options\n",
    "from selenium.webdriver.common.by import By\n",
    "from selenium.webdriver.support.ui import WebDriverWait\n",
    "from selenium.webdriver.support import expected_conditions as EC\n",
    "from pathlib import Path\n",
    "\n",
    "import signal\n",
    "import threading\n",
    "\n",
    "def signal_handler(signal, frame):\n",
    "    print('You pressed Ctrl+C!')\n",
    "\n",
    "driverPath = os.path.expanduser('~') + '/Documents/GitHub/shaw-data-bot/chromedriver'\n",
    "repoPath = os.path.expanduser('~') + '/Documents/GitHub/shaw-data-bot'\n",
    "\n",
    "#driverPath = str(Path(repoPath + '/chromedriver'))\n",
    "unpacked_extension_path = str(Path(repoPath + '/adobe-debugger'))\n",
    "unpacked_extension_path2 = str(Path(repoPath + '/seleniumIDE'))\n",
    "options = Options()\n",
    "\n",
    "options.add_argument('--load-extension={},{}'.format(unpacked_extension_path,unpacked_extension_path2))\n",
    "#options.add_argument('--load-extension={}'.format(unpacked_extension_path2))\n",
    "driver = webdriver.Chrome(driverPath, options=options)\n",
    "\n",
    "signal.signal(signal.SIGINT, signal_handler)\n",
    "print('Press Ctrl+C')\n",
    "forever = threading.Event()\n",
    "forever.wait()"
   ]
  },
  {
   "cell_type": "code",
   "execution_count": null,
   "metadata": {},
   "outputs": [],
   "source": []
  },
  {
   "cell_type": "code",
   "execution_count": null,
   "metadata": {},
   "outputs": [],
   "source": [
    "import Processing"
   ]
  },
  {
   "cell_type": "code",
   "execution_count": null,
   "metadata": {},
   "outputs": [],
   "source": [
    "CSV_prettifier()"
   ]
  },
  {
   "cell_type": "code",
   "execution_count": null,
   "metadata": {},
   "outputs": [],
   "source": []
  }
 ],
 "metadata": {
  "kernelspec": {
   "display_name": "Python 3",
   "language": "python",
   "name": "python3"
  },
  "language_info": {
   "codemirror_mode": {
    "name": "ipython",
    "version": 3
   },
   "file_extension": ".py",
   "mimetype": "text/x-python",
   "name": "python",
   "nbconvert_exporter": "python",
   "pygments_lexer": "ipython3",
   "version": "3.7.3"
  }
 },
 "nbformat": 4,
 "nbformat_minor": 2
}

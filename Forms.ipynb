{
 "cells": [
  {
   "cell_type": "markdown",
   "metadata": {},
   "source": [
    "## Selenium Test Script for Automated QA"
   ]
  },
  {
   "cell_type": "code",
   "execution_count": 57,
   "metadata": {},
   "outputs": [],
   "source": [
    "import os\n",
    "import time\n",
    "from selenium import webdriver\n",
    "from selenium.webdriver.common.keys import Keys\n",
    "from selenium.webdriver.chrome.options import Options"
   ]
  },
  {
   "cell_type": "markdown",
   "metadata": {},
   "source": [
    "- Loads extension from directory and adds it to Selenium instance. \n",
    "- Replace `unpacked_extension_path` with path for `adobe-debugger` on the local machine."
   ]
  },
  {
   "cell_type": "code",
   "execution_count": 58,
   "metadata": {},
   "outputs": [],
   "source": [
    "unpacked_extension_path = '/Users/adekadam/Documents/GitHub/shaw-data-bot-adesh/shaw-data-bot/adobe-debugger'\n",
    "options = Options()\n",
    "\n",
    "options.add_argument('--load-extension={}'.format(unpacked_extension_path))\n",
    "driver = webdriver.Chrome('/Users/adekadam/Documents/GitHub/shaw-data-bot-adesh/shaw-data-bot/chromedriver', options=options)"
   ]
  },
  {
   "cell_type": "markdown",
   "metadata": {},
   "source": [
    "All Selenium testing goes below this line.\n",
    "___"
   ]
  },
  {
   "cell_type": "code",
   "execution_count": 59,
   "metadata": {},
   "outputs": [],
   "source": [
    "#load desired webpage\n",
    "driver.get('https://www.shaw.ca/store/')"
   ]
  },
  {
   "cell_type": "code",
   "execution_count": 19,
   "metadata": {},
   "outputs": [],
   "source": [
    "driver.get('https://www.shaw.ca/store/')\n",
    "driver.find_element_by_link_text('View Offers').click()\n",
    "driver.find_element_by_link_text('Choose this plan').click()\n",
    "locationField = driver.find_element_by_id('modal_gsa_location')\n",
    "\n",
    "locationField.send_keys('121 Copperfield Grove Southeast')\n",
    "locationField.send_keys('121 Copperfield Grove Southeast')"
   ]
  }
 ],
 "metadata": {
  "kernelspec": {
   "display_name": "Python 3",
   "language": "python",
   "name": "python3"
  },
  "language_info": {
   "codemirror_mode": {
    "name": "ipython",
    "version": 3
   },
   "file_extension": ".py",
   "mimetype": "text/x-python",
   "name": "python",
   "nbconvert_exporter": "python",
   "pygments_lexer": "ipython3",
   "version": "3.7.3"
  }
 },
 "nbformat": 4,
 "nbformat_minor": 2
}

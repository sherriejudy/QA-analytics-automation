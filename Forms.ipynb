{
 "cells": [
  {
   "cell_type": "code",
   "execution_count": 27,
   "metadata": {},
   "outputs": [],
   "source": [
    "import os\n",
    "import time\n",
    "from selenium import webdriver\n",
    "from selenium.webdriver.common.keys import Keys\n",
    "from selenium.webdriver.chrome.options import Options\n",
    "\n",
    "#driver.find_element_by_link_text('Check Availability').click()\n",
    "\n",
    "#driver.find_element_by_xpath(\"/\")"
   ]
  },
  {
   "cell_type": "code",
   "execution_count": 19,
   "metadata": {},
   "outputs": [],
   "source": [
    "driver = webdriver.Chrome('/Users/adekadam/Downloads/chromedriver')\n",
    "driver.get('https://www.shaw.ca/store/')\n",
    "driver.find_element_by_link_text('View Offers').click()\n",
    "driver.find_element_by_link_text('Choose this plan').click()\n",
    "locationField = driver.find_element_by_id('modal_gsa_location')\n",
    "\n",
    "locationField.send_keys('121 Copperfield Grove Southeast')\n",
    "locationField.send_keys('121 Copperfield Grove Southeast')"
   ]
  },
  {
   "cell_type": "code",
   "execution_count": 34,
   "metadata": {},
   "outputs": [],
   "source": [
    "from selenium.webdriver.common.desired_capabilities import DesiredCapabilities\n",
    "\n",
    "# enable browser logging\n",
    "d = DesiredCapabilities.CHROME\n",
    "d['loggingPrefs'] = { 'browser':'ALL' }\n",
    "\n",
    "packed_extension_path = '/Users/adekadam/Documents/GitHub/shaw-data-bot-adesh/shaw-data-bot/test.crx'\n",
    "options = Options()\n",
    "options.add_extension(packed_extension_path)\n",
    "driver = webdriver.Chrome('/Users/adekadam/Downloads/chromedriver', options=options, desired_capabilities=d)\n",
    "\n",
    "#load desired webpage\n",
    "driver.get('https://www.shaw.ca/store/')\n",
    "\n",
    "time.sleep(2)\n",
    "\n",
    "x = driver.get_log('browser')"
   ]
  },
  {
   "cell_type": "code",
   "execution_count": 35,
   "metadata": {},
   "outputs": [
    {
     "data": {
      "text/plain": [
       "[{'level': 'WARNING',\n",
       "  'message': 'https://tags.tiqcdn.com/utag/shaw/uts-shaw-consumer/prod/utag.sync.js 4 A parser-blocking, cross site (i.e. different eTLD+1) script, https://cdn-pci.optimizely.com/js/8460507306.js, is invoked via document.write. The network request for this script MAY be blocked by the browser in this or a future page load due to poor network connectivity. If blocked in this page load, it will be confirmed in a subsequent console message. See https://www.chromestatus.com/feature/5718547946799104 for more details.',\n",
       "  'source': 'javascript',\n",
       "  'timestamp': 1560437587345},\n",
       " {'level': 'WARNING',\n",
       "  'message': 'https://tags.tiqcdn.com/utag/shaw/uts-shaw-consumer/prod/utag.sync.js 4 A parser-blocking, cross site (i.e. different eTLD+1) script, https://cdn-pci.optimizely.com/js/8460507306.js, is invoked via document.write. The network request for this script MAY be blocked by the browser in this or a future page load due to poor network connectivity. If blocked in this page load, it will be confirmed in a subsequent console message. See https://www.chromestatus.com/feature/5718547946799104 for more details.',\n",
       "  'source': 'javascript',\n",
       "  'timestamp': 1560437587346}]"
      ]
     },
     "execution_count": 35,
     "metadata": {},
     "output_type": "execute_result"
    }
   ],
   "source": [
    "x"
   ]
  },
  {
   "cell_type": "code",
   "execution_count": null,
   "metadata": {},
   "outputs": [],
   "source": []
  }
 ],
 "metadata": {
  "kernelspec": {
   "display_name": "Python 3",
   "language": "python",
   "name": "python3"
  },
  "language_info": {
   "codemirror_mode": {
    "name": "ipython",
    "version": 3
   },
   "file_extension": ".py",
   "mimetype": "text/x-python",
   "name": "python",
   "nbconvert_exporter": "python",
   "pygments_lexer": "ipython3",
   "version": "3.7.3"
  }
 },
 "nbformat": 4,
 "nbformat_minor": 2
}

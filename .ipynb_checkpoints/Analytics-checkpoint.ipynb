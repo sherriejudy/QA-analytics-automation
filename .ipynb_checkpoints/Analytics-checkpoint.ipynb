{
 "cells": [
  {
   "cell_type": "code",
   "execution_count": 1,
   "metadata": {},
   "outputs": [
    {
     "ename": "NameError",
     "evalue": "name '__file__' is not defined",
     "output_type": "error",
     "traceback": [
      "\u001b[0;31m---------------------------------------------------------------------------\u001b[0m",
      "\u001b[0;31mNameError\u001b[0m                                 Traceback (most recent call last)",
      "\u001b[0;32m<ipython-input-1-cf0cc54e440f>\u001b[0m in \u001b[0;36m<module>\u001b[0;34m\u001b[0m\n\u001b[1;32m     10\u001b[0m \u001b[0mhomeDir\u001b[0m \u001b[0;34m=\u001b[0m \u001b[0mos\u001b[0m\u001b[0;34m.\u001b[0m\u001b[0mpath\u001b[0m\u001b[0;34m.\u001b[0m\u001b[0mexpanduser\u001b[0m\u001b[0;34m(\u001b[0m\u001b[0;34m'~'\u001b[0m\u001b[0;34m)\u001b[0m\u001b[0;34m\u001b[0m\u001b[0;34m\u001b[0m\u001b[0m\n\u001b[1;32m     11\u001b[0m \u001b[0;31m# System path to the cloned repository (eg. /Users/JohnDoe/Documents/shaw-data-bot)\u001b[0m\u001b[0;34m\u001b[0m\u001b[0;34m\u001b[0m\u001b[0;34m\u001b[0m\u001b[0m\n\u001b[0;32m---> 12\u001b[0;31m \u001b[0mrepoPath\u001b[0m \u001b[0;34m=\u001b[0m \u001b[0mos\u001b[0m\u001b[0;34m.\u001b[0m\u001b[0mpath\u001b[0m\u001b[0;34m.\u001b[0m\u001b[0mdirname\u001b[0m\u001b[0;34m(\u001b[0m\u001b[0mos\u001b[0m\u001b[0;34m.\u001b[0m\u001b[0mpath\u001b[0m\u001b[0;34m.\u001b[0m\u001b[0mabspath\u001b[0m\u001b[0;34m(\u001b[0m\u001b[0m__file__\u001b[0m\u001b[0;34m)\u001b[0m\u001b[0;34m)\u001b[0m\u001b[0;34m\u001b[0m\u001b[0;34m\u001b[0m\u001b[0m\n\u001b[0m\u001b[1;32m     13\u001b[0m \u001b[0;31m# Website to be tested as a command line argument\u001b[0m\u001b[0;34m\u001b[0m\u001b[0;34m\u001b[0m\u001b[0;34m\u001b[0m\u001b[0m\n\u001b[1;32m     14\u001b[0m \u001b[0mwebsiteURL\u001b[0m \u001b[0;34m=\u001b[0m \u001b[0msys\u001b[0m\u001b[0;34m.\u001b[0m\u001b[0margv\u001b[0m\u001b[0;34m[\u001b[0m\u001b[0;36m1\u001b[0m\u001b[0;34m]\u001b[0m\u001b[0;34m\u001b[0m\u001b[0;34m\u001b[0m\u001b[0m\n",
      "\u001b[0;31mNameError\u001b[0m: name '__file__' is not defined"
     ]
    }
   ],
   "source": [
    "# Main script for page loads analytics\n",
    "\n",
    "# Import required modules\n",
    "import PageLoads\n",
    "import Processing\n",
    "import os\n",
    "import sys\n",
    "\n",
    "# Home directory system path\n",
    "homeDir = os.path.expanduser('~')\n",
    "# System path to the cloned repository (eg. /Users/JohnDoe/Documents/shaw-data-bot)\n",
    "repoPath = os.path.dirname(os.path.abspath(__file__))\n",
    "# Website to be tested as a command line argument\n",
    "websiteURL = sys.argv[1]\n",
    "\n",
    "# Finding all navigation links and the associated analytics data\n",
    "PageLoads.endPointHits(websiteURL, homeDir, repoPath + '/adobe-debugger', repoPath + '/chromedriver')\n",
    "# Processing and collating analytics data\n",
    "Processing.CSV_prettifier(homeDir + '/Downloads')"
   ]
  },
  {
   "cell_type": "code",
   "execution_count": 2,
   "metadata": {},
   "outputs": [
    {
     "ename": "SyntaxError",
     "evalue": "invalid syntax (<ipython-input-2-5d33aad76683>, line 5)",
     "output_type": "error",
     "traceback": [
      "\u001b[0;36m  File \u001b[0;32m\"<ipython-input-2-5d33aad76683>\"\u001b[0;36m, line \u001b[0;32m5\u001b[0m\n\u001b[0;31m    if opSys =\u001b[0m\n\u001b[0m             ^\u001b[0m\n\u001b[0;31mSyntaxError\u001b[0m\u001b[0;31m:\u001b[0m invalid syntax\n"
     ]
    }
   ],
   "source": [
    "import platform\n",
    "\n",
    "opSys = platform.system()\n",
    "\n",
    "if opSys == 'Windows':\n",
    "    # Home directory system path\n",
    "    homeDir = os.path.expanduser('~')\n",
    "    # System path to the cloned repository (eg. /Users/JohnDoe/Documents/shaw-data-bot)\n",
    "    repoPath = os.path.dirname(os.path.abspath(__file__))\n",
    "    # Website to be tested as a command line argument\n",
    "    websiteURL = sys.argv[1]\n",
    "\n",
    "    # Finding all navigation links and the associated analytics data\n",
    "    PageLoads.endPointHits(websiteURL, homeDir, repoPath + '\\adobe-debugger', repoPath + '\\chromedriver')\n",
    "    # Processing and collating analytics data\n",
    "    Processing.CSV_prettifier(homeDir + '\\Downloads')\n",
    "else:\n",
    "    # Home directory system path\n",
    "    homeDir = os.path.expanduser('~')\n",
    "    # System path to the cloned repository (eg. /Users/JohnDoe/Documents/shaw-data-bot)\n",
    "    repoPath = os.path.dirname(os.path.abspath(__file__))\n",
    "    # Website to be tested as a command line argument\n",
    "    websiteURL = sys.argv[1]\n",
    "\n",
    "    # Finding all navigation links and the associated analytics data\n",
    "    PageLoads.endPointHits(websiteURL, homeDir, repoPath + '/adobe-debugger', repoPath + '/chromedriver')\n",
    "    # Processing and collating analytics data\n",
    "    Processing.CSV_prettifier(homeDir + '/Downloads')"
   ]
  },
  {
   "cell_type": "code",
   "execution_count": 7,
   "metadata": {},
   "outputs": [],
   "source": [
    "from pathlib import Path, PureWindowsPath\n",
    "x = Path('/Users/adekadam/Documents/GitHub/shaw-data-bot/text.csv')"
   ]
  },
  {
   "cell_type": "code",
   "execution_count": 8,
   "metadata": {},
   "outputs": [],
   "source": [
    "path_on_windows = PureWindowsPath(x)"
   ]
  },
  {
   "cell_type": "code",
   "execution_count": 12,
   "metadata": {},
   "outputs": [
    {
     "data": {
      "text/plain": [
       "'/Users/adekadam/Documents/GitHub/shaw-data-bot/text.csv'"
      ]
     },
     "execution_count": 12,
     "metadata": {},
     "output_type": "execute_result"
    }
   ],
   "source": [
    "str(x)"
   ]
  },
  {
   "cell_type": "code",
   "execution_count": null,
   "metadata": {},
   "outputs": [],
   "source": []
  }
 ],
 "metadata": {
  "kernelspec": {
   "display_name": "Python 3",
   "language": "python",
   "name": "python3"
  },
  "language_info": {
   "codemirror_mode": {
    "name": "ipython",
    "version": 3
   },
   "file_extension": ".py",
   "mimetype": "text/x-python",
   "name": "python",
   "nbconvert_exporter": "python",
   "pygments_lexer": "ipython3",
   "version": "3.7.3"
  }
 },
 "nbformat": 4,
 "nbformat_minor": 2
}

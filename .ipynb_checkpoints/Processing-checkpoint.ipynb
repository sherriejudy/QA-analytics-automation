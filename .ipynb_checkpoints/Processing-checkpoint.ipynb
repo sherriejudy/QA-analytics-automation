{
 "cells": [
  {
   "cell_type": "markdown",
   "metadata": {},
   "source": [
    "### CSV Prettifier\n",
    "\n",
    "- Input: path of raw CSV files.\n",
    "- Output: CSV (single sheet)/XLSX (multiple sheets) files with improved readability."
   ]
  },
  {
   "cell_type": "code",
   "execution_count": 52,
   "metadata": {},
   "outputs": [
    {
     "ename": "SyntaxError",
     "evalue": "invalid syntax (<ipython-input-52-4e19b3bd094f>, line 10)",
     "output_type": "error",
     "traceback": [
      "\u001b[0;36m  File \u001b[0;32m\"<ipython-input-52-4e19b3bd094f>\"\u001b[0;36m, line \u001b[0;32m10\u001b[0m\n\u001b[0;31m    if output = 'csv':\u001b[0m\n\u001b[0m              ^\u001b[0m\n\u001b[0;31mSyntaxError\u001b[0m\u001b[0;31m:\u001b[0m invalid syntax\n"
     ]
    }
   ],
   "source": [
    "def CSV_prettifier(path, output):\n",
    "    import pandas as pd\n",
    "    import numpy as np\n",
    "    import seaborn as sns\n",
    "    import os\n",
    "    import glob\n",
    "    \n",
    "    all_files = glob.glob1(path,\"*csv\")\n",
    "    \n",
    "    if output == 'csv':\n",
    "        \n",
    "        li = []\n",
    "\n",
    "        for filename in all_files:\n",
    "            x = path+ '/' +filename\n",
    "            df = pd.read_csv(x, index_col=None, header=0, sep='~~', engine='python')\n",
    "            df.set_index('Report Suite ID    ', inplace=True)\n",
    "            li.append(df)\n",
    "\n",
    "        frame = pd.concat(li, axis=1, sort='False')\n",
    "        frame.to_csv('ShawQA-samesheet.csv')\n",
    "        \n",
    "    else if output == 'xlsx':\n",
    "        di = {}\n",
    "\n",
    "        for filename in all_files:\n",
    "            x = path+ '/' +filename\n",
    "            df = pd.read_csv(x, index_col=None, header=0, sep='~~', engine='python')\n",
    "            df.set_index('Report Suite ID    ', inplace=True)\n",
    "            di.update({ filename : df})\n",
    "    \n",
    "        writer = pd.ExcelWriter('ShawQA-sheets.xlsx', engine='xlsxwriter')\n",
    "\n",
    "        for sheet in di.keys():\n",
    "            di[sheet].to_excel(writer, sheet_name=sheet, index=True)\n",
    "    \n",
    "        writer.save()"
   ]
  },
  {
   "cell_type": "code",
   "execution_count": 29,
   "metadata": {},
   "outputs": [],
   "source": [
    "path = '/Users/adekadam/Documents/GitHub/shaw-data-bot/hits'"
   ]
  },
  {
   "cell_type": "code",
   "execution_count": 51,
   "metadata": {},
   "outputs": [],
   "source": []
  }
 ],
 "metadata": {
  "kernelspec": {
   "display_name": "Python 3",
   "language": "python",
   "name": "python3"
  },
  "language_info": {
   "codemirror_mode": {
    "name": "ipython",
    "version": 3
   },
   "file_extension": ".py",
   "mimetype": "text/x-python",
   "name": "python",
   "nbconvert_exporter": "python",
   "pygments_lexer": "ipython3",
   "version": "3.7.3"
  }
 },
 "nbformat": 4,
 "nbformat_minor": 2
}

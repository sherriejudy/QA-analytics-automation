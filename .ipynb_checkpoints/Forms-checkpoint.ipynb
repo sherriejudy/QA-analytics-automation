{
 "cells": [
  {
   "cell_type": "code",
   "execution_count": 5,
   "metadata": {},
   "outputs": [],
   "source": [
    "import os\n",
    "import time\n",
    "from selenium import webdriver\n",
    "from selenium.webdriver.common.keys import Keys\n",
    "\n",
    "driver = webdriver.Chrome('/Users/adekadam/Downloads/chromedriver')\n",
    "driver.get('https://www.shaw.ca/store/')\n",
    "driver.find_element_by_link_text('View Offers').click()\n",
    "driver.find_element_by_link_text('Choose this plan').click()\n",
    "locationField = driver.find_element_by_id('modal_gsa_location')\n",
    "\n",
    "locationField.send_keys('121 Copperfield Grove Southeast', Keys.RETURN)\n",
    "\n",
    "\n",
    "\n",
    "#driver.find_element_by_link_text('Check Availability').click()\n",
    "\n",
    "#driver.find_element_by_xpath(\"/\")\n"
   ]
  },
  {
   "cell_type": "code",
   "execution_count": null,
   "metadata": {},
   "outputs": [],
   "source": []
  },
  {
   "cell_type": "code",
   "execution_count": null,
   "metadata": {},
   "outputs": [],
   "source": []
  },
  {
   "cell_type": "code",
   "execution_count": null,
   "metadata": {},
   "outputs": [],
   "source": []
  }
 ],
 "metadata": {
  "kernelspec": {
   "display_name": "Python 3",
   "language": "python",
   "name": "python3"
  },
  "language_info": {
   "codemirror_mode": {
    "name": "ipython",
    "version": 3
   },
   "file_extension": ".py",
   "mimetype": "text/x-python",
   "name": "python",
   "nbconvert_exporter": "python",
   "pygments_lexer": "ipython3",
   "version": "3.7.3"
  }
 },
 "nbformat": 4,
 "nbformat_minor": 2
}

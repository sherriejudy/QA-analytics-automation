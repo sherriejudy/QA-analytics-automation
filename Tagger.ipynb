{
 "cells": [
  {
   "cell_type": "code",
   "execution_count": 1,
   "metadata": {},
   "outputs": [],
   "source": [
    "import os\n",
    "import re\n",
    "import time\n",
    "import requests\n",
    "import pandas as pd\n",
    "import numpy as np\n",
    "import seaborn as sns\n",
    "\n",
    "from selenium import webdriver\n",
    "from bs4 import BeautifulSoup\n",
    "from requests import get"
   ]
  },
  {
   "cell_type": "code",
   "execution_count": 2,
   "metadata": {},
   "outputs": [
    {
     "data": {
      "text/plain": [
       "bs4.BeautifulSoup"
      ]
     },
     "execution_count": 2,
     "metadata": {},
     "output_type": "execute_result"
    }
   ],
   "source": [
    "response = get('https://www.shaw.ca/store/')\n",
    "html_soup = BeautifulSoup(response.text, 'html.parser')\n",
    "type(html_soup)"
   ]
  },
  {
   "cell_type": "code",
   "execution_count": 3,
   "metadata": {},
   "outputs": [],
   "source": [
    "nav_links = html_soup.find_all('li', class_ = 'parent')"
   ]
  },
  {
   "cell_type": "code",
   "execution_count": 4,
   "metadata": {},
   "outputs": [
    {
     "data": {
      "text/plain": [
       "6"
      ]
     },
     "execution_count": 4,
     "metadata": {},
     "output_type": "execute_result"
    }
   ],
   "source": [
    "len(nav_links)"
   ]
  },
  {
   "cell_type": "code",
   "execution_count": 9,
   "metadata": {},
   "outputs": [],
   "source": [
    "endpoints = []\n",
    "\n",
    "for i in range(len(nav_links)-1):\n",
    "    for a in nav_links[i].find_all('a'):\n",
    "        if a['href'][0] == '/': \n",
    "            endpoints.append('https://www.shaw.ca'+a['href'])\n",
    "        else: \n",
    "            endpoints.append(a['href'])"
   ]
  },
  {
   "cell_type": "code",
   "execution_count": 10,
   "metadata": {},
   "outputs": [
    {
     "data": {
      "text/plain": [
       "['https://www.shaw.ca/bluecurve/',\n",
       " 'https://www.shaw.ca/bluecurve/bluecurve-home/',\n",
       " 'https://www.shaw.ca/bluecurve/bluecurve-pods/',\n",
       " 'https://www.shaw.ca/bluecurve/bluecurve-gateway/',\n",
       " 'https://www.shaw.ca/internet/',\n",
       " 'https://www.shaw.ca/internet/plans/',\n",
       " 'https://www.shaw.ca/wifi/',\n",
       " 'https://www.shaw.ca/internet/internet-extras/',\n",
       " 'https://www.shaw.ca/advanced-wifi-modem',\n",
       " 'https://www.shaw.ca/fibreplus',\n",
       " 'https://www.shaw.ca/television/',\n",
       " 'https://www.shaw.ca/television/plans/',\n",
       " 'https://www.shaw.ca/television/blueskytv',\n",
       " 'https://www.shaw.ca/television/programming/',\n",
       " 'https://www.shaw.ca/television/freerangetv/',\n",
       " 'https://www.shaw.ca/television/video-on-demand/',\n",
       " 'https://www.shaw.ca/television/channels/pay-per-view/',\n",
       " 'http://www.shaw.ca/television/channel-listings/',\n",
       " 'https://www.shaw.ca/television/equipment/',\n",
       " 'https://www.shaw.ca/television/tv-apps/',\n",
       " 'https://www.shaw.ca/home-phone/phone-plans/',\n",
       " 'https://www.shaw.ca/home-phone/phone-plans/',\n",
       " 'https://www.shaw.ca/home-phone/features/',\n",
       " 'https://www.shaw.ca/home-phone/long-distance/',\n",
       " 'https://www.shaw.ca/home-phone/portal/',\n",
       " 'https://www.shaw.ca/bundles/',\n",
       " 'https://www.shaw.ca/bundles/bluesky-tv-bundles/',\n",
       " 'https://www.shaw.ca/bundles/shaw-tv-bundles/']"
      ]
     },
     "execution_count": 10,
     "metadata": {},
     "output_type": "execute_result"
    }
   ],
   "source": [
    "endpoints"
   ]
  },
  {
   "cell_type": "markdown",
   "metadata": {},
   "source": [
    "___\n",
    "Notes:\n",
    "- `/bluecurve-pods` : form\n",
    "- `/bluecurve-gateway` : form\n",
    "- `/internet` : 3 clicks\n",
    "- `/wifi` : form and 3 buttons\n",
    "- `/internet-extras` : 2 links"
   ]
  },
  {
   "cell_type": "code",
   "execution_count": 11,
   "metadata": {},
   "outputs": [],
   "source": [
    "df = pd.DataFrame(data=endpoints)"
   ]
  },
  {
   "cell_type": "code",
   "execution_count": 13,
   "metadata": {},
   "outputs": [],
   "source": [
    "df.to_csv('endpoints.csv')"
   ]
  }
 ],
 "metadata": {
  "kernelspec": {
   "display_name": "Python 3",
   "language": "python",
   "name": "python3"
  },
  "language_info": {
   "codemirror_mode": {
    "name": "ipython",
    "version": 3
   },
   "file_extension": ".py",
   "mimetype": "text/x-python",
   "name": "python",
   "nbconvert_exporter": "python",
   "pygments_lexer": "ipython3",
   "version": "3.7.3"
  }
 },
 "nbformat": 4,
 "nbformat_minor": 2
}

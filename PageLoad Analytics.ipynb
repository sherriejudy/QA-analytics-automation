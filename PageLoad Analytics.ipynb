{
 "cells": [
  {
   "cell_type": "code",
   "execution_count": 207,
   "metadata": {},
   "outputs": [],
   "source": [
    "# Import required libraries\n",
    "from selenium import webdriver\n",
    "from bs4 import BeautifulSoup\n",
    "from requests import get\n",
    "from selenium import webdriver\n",
    "from selenium.webdriver.chrome.options import Options\n",
    "import csv"
   ]
  },
  {
   "cell_type": "markdown",
   "metadata": {},
   "source": [
    "* Creating a Beautiful Soup Object with website's HTML code"
   ]
  },
  {
   "cell_type": "code",
   "execution_count": 208,
   "metadata": {},
   "outputs": [],
   "source": [
    "# Main webpage\n",
    "websiteURL = 'https://test-ecommerce-discover-test-external.nonprod.dsl.aws.shaw.ca'\n",
    "\n",
    "response = get(websiteURL)\n",
    "htmlSoup = BeautifulSoup(response.text, 'html.parser')\n",
    "# print(html_soup.prettify())"
   ]
  },
  {
   "cell_type": "markdown",
   "metadata": {},
   "source": [
    "* Finding all navigation links for page load testing"
   ]
  },
  {
   "cell_type": "code",
   "execution_count": 209,
   "metadata": {},
   "outputs": [],
   "source": [
    "navLinks = htmlSoup.find('nav').find_all('a')"
   ]
  },
  {
   "cell_type": "code",
   "execution_count": 221,
   "metadata": {},
   "outputs": [
    {
     "name": "stdout",
     "output_type": "stream",
     "text": [
      "1: https://test-ecommerce-discover-test-external.nonprod.dsl.aws.shaw.ca\n",
      "2: https://business.shaw.ca\n",
      "3: https://community.shaw.ca\n",
      "4: https://my.shaw.ca\n",
      "5: https://webmail.shaw.ca\n",
      "6: https://test-ecommerce-discover-test-external.nonprod.dsl.aws.shaw.ca/contact-us\n",
      "7: https://test-ecommerce-discover-test-external.nonprod.dsl.aws.shaw.ca/bluecurve\n",
      "8: https://test-ecommerce-discover-test-external.nonprod.dsl.aws.shaw.ca/bluecurve/bluecurve-pods\n",
      "9: https://test-ecommerce-discover-test-external.nonprod.dsl.aws.shaw.ca/internet\n",
      "10: https://test-ecommerce-discover-test-external.nonprod.dsl.aws.shaw.ca/internet/wifi\n",
      "11: https://test-ecommerce-discover-test-external.nonprod.dsl.aws.shaw.ca/internet/fibreplus\n",
      "12: https://test-ecommerce-discover-test-external.nonprod.dsl.aws.shaw.ca/tv\n",
      "13: https://test-ecommerce-discover-test-external.nonprod.dsl.aws.shaw.ca/tv/freerangetv\n",
      "14: https://test-ecommerce-discover-test-external.nonprod.dsl.aws.shaw.ca/tv/programming\n",
      "15: https://test-ecommerce-discover-test-external.nonprod.dsl.aws.shaw.ca/tv/programming/channels\n",
      "16: https://test-ecommerce-discover-test-external.nonprod.dsl.aws.shaw.ca/tv/programming/channels/channel-listings\n",
      "17: https://test-ecommerce-discover-test-external.nonprod.dsl.aws.shaw.ca/tv/programming/channels/pick-and-pay\n",
      "18: https://test-ecommerce-discover-test-external.nonprod.dsl.aws.shaw.ca/tv/programming/channels/premium\n",
      "19: https://test-ecommerce-discover-test-external.nonprod.dsl.aws.shaw.ca/tv/programming/channels/news-and-free-previews\n",
      "20: https://test-ecommerce-discover-test-external.nonprod.dsl.aws.shaw.ca/home-phone\n",
      "21: https://test-ecommerce-discover-test-external.nonprod.dsl.aws.shaw.ca/bundles\n"
     ]
    }
   ],
   "source": [
    "endPoints = []\n",
    "count = 0\n",
    "\n",
    "for link in navLinks:\n",
    "    # value of href attribute of each tag\n",
    "    href = link.get('href')\n",
    "    \n",
    "    if href != None:\n",
    "        # checking for full links vs end points\n",
    "        if href.find('http') == -1: \n",
    "            href = websiteURL + href\n",
    "        if href[-1] == '/':\n",
    "            href = href[:-1]\n",
    "    \n",
    "        endPoints.append(href)\n",
    "            \n",
    "endPoints = list(dict.fromkeys(endPoints))\n",
    "\n",
    "for link in endPoints:\n",
    "    count += 1    \n",
    "    print(str(count) + ': ' + link)\n",
    "        "
   ]
  },
  {
   "cell_type": "markdown",
   "metadata": {},
   "source": [
    "* Exporting web endpoints to a CSV file"
   ]
  },
  {
   "cell_type": "code",
   "execution_count": 203,
   "metadata": {},
   "outputs": [],
   "source": [
    "with open('/Users/rammangl1/Downloads/Endpoints.csv', 'w') as f:\n",
    "#     writer = csv.writer(f)\n",
    "#     writer.write('\\n'.join(endPoints))\n",
    "    f.write('\\n'.join(endPoints))\n",
    "    \n",
    "f.close()"
   ]
  },
  {
   "cell_type": "markdown",
   "metadata": {},
   "source": [
    "* Loads modified Adobe extension from directory and adds it to Selenium instance. "
   ]
  },
  {
   "cell_type": "code",
   "execution_count": 204,
   "metadata": {},
   "outputs": [],
   "source": [
    "unpacked_extension_path = '/Users/rammangl1/Desktop/ShawWeb/shaw-data-bot/adobe-debugger'\n",
    "options = Options()\n",
    "\n",
    "options.add_argument('--load-extension={}'.format(unpacked_extension_path))\n",
    "driver = webdriver.Chrome('/Users/rammangl1/Desktop/ShawWeb/shaw-data-bot/chromedriver', options=options)"
   ]
  },
  {
   "cell_type": "markdown",
   "metadata": {},
   "source": [
    "* Downloading Page Load analytics for each page in CSV format"
   ]
  },
  {
   "cell_type": "code",
   "execution_count": 205,
   "metadata": {},
   "outputs": [],
   "source": [
    "for page in endPoints:\n",
    "    driver.get(page)"
   ]
  }
 ],
 "metadata": {
  "kernelspec": {
   "display_name": "Python 3",
   "language": "python",
   "name": "python3"
  },
  "language_info": {
   "codemirror_mode": {
    "name": "ipython",
    "version": 3
   },
   "file_extension": ".py",
   "mimetype": "text/x-python",
   "name": "python",
   "nbconvert_exporter": "python",
   "pygments_lexer": "ipython3",
   "version": "3.7.3"
  }
 },
 "nbformat": 4,
 "nbformat_minor": 2
}

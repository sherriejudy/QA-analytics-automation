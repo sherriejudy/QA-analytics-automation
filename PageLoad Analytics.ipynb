{
 "cells": [
  {
   "cell_type": "code",
   "execution_count": 68,
   "metadata": {},
   "outputs": [],
   "source": [
    "# Import required libraries\n",
    "from selenium import webdriver\n",
    "from bs4 import BeautifulSoup\n",
    "from requests import get\n",
    "from selenium import webdriver\n",
    "from selenium.webdriver.chrome.options import Options"
   ]
  },
  {
   "cell_type": "markdown",
   "metadata": {},
   "source": [
    "* Creating a Beautiful Soup Object with website's HTML code"
   ]
  },
  {
   "cell_type": "code",
   "execution_count": 69,
   "metadata": {},
   "outputs": [],
   "source": [
    "# Main webpage\n",
    "websiteURL = 'https://test-ecommerce-discover-test-external.nonprod.dsl.aws.shaw.ca'\n",
    "\n",
    "response = get(websiteURL)\n",
    "htmlSoup = BeautifulSoup(response.text, 'html.parser')\n",
    "# print(html_soup.prettify())"
   ]
  },
  {
   "cell_type": "markdown",
   "metadata": {},
   "source": [
    "* Finding all navigation links for page load testing"
   ]
  },
  {
   "cell_type": "code",
   "execution_count": 70,
   "metadata": {},
   "outputs": [],
   "source": [
    "navLinks = htmlSoup.find('nav').find_all('a')"
   ]
  },
  {
   "cell_type": "code",
   "execution_count": 71,
   "metadata": {},
   "outputs": [
    {
     "name": "stdout",
     "output_type": "stream",
     "text": [
      "1: https://test-ecommerce-discover-test-external.nonprod.dsl.aws.shaw.ca/\n",
      "2: https://business.shaw.ca\n",
      "3: https://test-ecommerce-discover-test-external.nonprod.dsl.aws.shaw.ca/\n",
      "4: https://community.shaw.ca/\n",
      "5: https://my.shaw.ca/\n",
      "6: https://webmail.shaw.ca/\n",
      "7: https://test-ecommerce-discover-test-external.nonprod.dsl.aws.shaw.ca/contact-us\n",
      "8: https://test-ecommerce-discover-test-external.nonprod.dsl.aws.shaw.ca/bluecurve\n",
      "9: https://test-ecommerce-discover-test-external.nonprod.dsl.aws.shaw.ca/bluecurve/bluecurve-pods\n",
      "10: https://test-ecommerce-discover-test-external.nonprod.dsl.aws.shaw.ca/internet\n",
      "11: https://test-ecommerce-discover-test-external.nonprod.dsl.aws.shaw.ca/internet/wifi\n",
      "12: https://test-ecommerce-discover-test-external.nonprod.dsl.aws.shaw.ca/internet/fibreplus\n",
      "13: https://test-ecommerce-discover-test-external.nonprod.dsl.aws.shaw.ca/tv\n",
      "14: https://test-ecommerce-discover-test-external.nonprod.dsl.aws.shaw.ca/tv/freerangetv\n",
      "15: https://test-ecommerce-discover-test-external.nonprod.dsl.aws.shaw.ca/tv/programming\n",
      "16: https://test-ecommerce-discover-test-external.nonprod.dsl.aws.shaw.ca/tv/programming/channels\n",
      "17: https://test-ecommerce-discover-test-external.nonprod.dsl.aws.shaw.ca/tv/programming/channels/channel-listings\n",
      "18: https://test-ecommerce-discover-test-external.nonprod.dsl.aws.shaw.ca/tv/programming/channels/pick-and-pay\n",
      "19: https://test-ecommerce-discover-test-external.nonprod.dsl.aws.shaw.ca/tv/programming/channels/premium\n",
      "20: https://test-ecommerce-discover-test-external.nonprod.dsl.aws.shaw.ca/tv/programming/channels/news-and-free-previews\n",
      "21: https://test-ecommerce-discover-test-external.nonprod.dsl.aws.shaw.ca/home-phone\n",
      "22: https://test-ecommerce-discover-test-external.nonprod.dsl.aws.shaw.ca/bundles\n",
      "23: https://business.shaw.ca/\n"
     ]
    }
   ],
   "source": [
    "endPoints = []\n",
    "count = 0\n",
    "\n",
    "for link in navLinks:\n",
    "    # value of href attribute of each tag\n",
    "    href = link.get('href')\n",
    "    \n",
    "    if href != None:\n",
    "        # checking for full links vs end points\n",
    "        if href.find('http') == -1: \n",
    "            endPoints.append(websiteURL + href)\n",
    "        else:\n",
    "            endPoints.append(href)\n",
    "            \n",
    "        count += 1    \n",
    "        print(str(count) + ': ' + endPoints[-1])\n",
    "        "
   ]
  },
  {
   "cell_type": "markdown",
   "metadata": {},
   "source": [
    "* Loads modified Adobe extension from directory and adds it to Selenium instance. "
   ]
  },
  {
   "cell_type": "code",
   "execution_count": 72,
   "metadata": {},
   "outputs": [],
   "source": [
    "unpacked_extension_path = '/Users/rammangl1/Desktop/ShawWeb/shaw-data-bot/adobe-debugger'\n",
    "options = Options()\n",
    "\n",
    "options.add_argument('--load-extension={}'.format(unpacked_extension_path))\n",
    "driver = webdriver.Chrome('/Users/rammangl1/Desktop/ShawWeb/shaw-data-bot/chromedriver', options=options)"
   ]
  },
  {
   "cell_type": "markdown",
   "metadata": {},
   "source": [
    "* Downloading Page Load analytics for each page in CSV format"
   ]
  },
  {
   "cell_type": "code",
   "execution_count": 73,
   "metadata": {},
   "outputs": [],
   "source": [
    "for page in endPoints:\n",
    "    driver.get(page)"
   ]
  }
 ],
 "metadata": {
  "kernelspec": {
   "display_name": "Python 3",
   "language": "python",
   "name": "python3"
  },
  "language_info": {
   "codemirror_mode": {
    "name": "ipython",
    "version": 3
   },
   "file_extension": ".py",
   "mimetype": "text/x-python",
   "name": "python",
   "nbconvert_exporter": "python",
   "pygments_lexer": "ipython3",
   "version": "3.7.3"
  }
 },
 "nbformat": 4,
 "nbformat_minor": 2
}

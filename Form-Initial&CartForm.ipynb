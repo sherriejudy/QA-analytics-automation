{
 "cells": [
  {
   "cell_type": "markdown",
   "metadata": {},
   "source": [
    "## Selenium Test Script for Automated QA(Exit, Go to Cart, & Value Plan agreement Form)"
   ]
  },
  {
   "cell_type": "code",
   "execution_count": 1,
   "metadata": {},
   "outputs": [],
   "source": [
    "import os\n",
    "import time\n",
    "from selenium import webdriver\n",
    "from selenium.webdriver.common.keys import Keys\n",
    "from selenium.webdriver.chrome.options import Options\n",
    "from selenium.webdriver.common.by import By\n",
    "from selenium.webdriver.support.ui import WebDriverWait\n",
    "from selenium.webdriver.support import expected_conditions as EC"
   ]
  },
  {
   "cell_type": "markdown",
   "metadata": {},
   "source": [
    "- Loads extension from directory and adds it to Selenium instance. \n",
    "- Replace `unpacked_extension_path` with path for `adobe-debugger` on the local machine."
   ]
  },
  {
   "cell_type": "code",
   "execution_count": 2,
   "metadata": {},
   "outputs": [],
   "source": [
    "unpacked_extension_path = '/Users/judhu/shaw-data-bot/adobe-debugger'\n",
    "options = Options()\n",
    "\n",
    "options.add_argument('--load-extension={}'.format(unpacked_extension_path))\n",
    "driver = webdriver.Chrome('/Users/judhu/shaw-data-bot/chromedriver', options=options)\n"
   ]
  },
  {
   "cell_type": "markdown",
   "metadata": {},
   "source": [
    "All Selenium testing goes below this line.\n",
    "___"
   ]
  },
  {
   "cell_type": "code",
   "execution_count": 5,
   "metadata": {},
   "outputs": [],
   "source": [
    "#load desired webpage\n",
    "driver.get('https://test-ecommerce-discover-test-external.nonprod.dsl.aws.shaw.ca/')"
   ]
  },
  {
   "cell_type": "code",
   "execution_count": 15,
   "metadata": {},
   "outputs": [],
   "source": [
    "driver.get('https://test-ecommerce-discover-test-external.nonprod.dsl.aws.shaw.ca/')\n",
    "driver.get('https://test-ecommerce-discover-test-external.nonprod.dsl.aws.shaw.ca/bundles')\n",
    "driver.find_element_by_class_name('c-card__checkout-label').click()\n",
    "WebDriverWait(driver, 10).until(\n",
    "    EC.element_to_be_clickable((By.ID, \"Yes\"))\n",
    ")\n",
    "driver.execute_script(\"document.getElementById('Yes').click()\")\n",
    "driver.execute_script(\"document.getElementById('Internet').click()\")\n",
    "driver.execute_script(\"document.getElementById('Television').click()\")\n",
    "driver.execute_script(\"document.getElementById('Telephony').click()\")\n",
    "driver.execute_script(\"document.querySelector('[aria-label=\\\"Submit your details\\\"]').click()\")\n",
    "\n",
    "element = WebDriverWait(driver, 10).until(\n",
    "    EC.element_to_be_clickable((By.ID, \"address\"))\n",
    ")\n",
    "element.click()\n",
    "\n",
    "locationField = driver.find_element_by_id('address')\n",
    "locationField.send_keys('121 Copperfield Grove Southeast, Calgary, AB, Canada') # you can't click enter to confirm\n",
    "\n",
    "WebDriverWait(driver, 10).until(\n",
    "    EC.element_to_be_clickable((By.ID, \"ChIJXwsBHvF3cVMRpneKEZEV9SE\"))\n",
    ") # this executes a script after, so no var\n",
    "driver.execute_script(\"document.getElementById('ChIJXwsBHvF3cVMRpneKEZEV9SE').click()\")\n",
    "\n",
    "element = WebDriverWait(driver, 10).until(\n",
    "    EC.element_to_be_clickable((By.CLASS_NAME, \"c-self-identify__validate-address-button\"))\n",
    ")\n",
    "element.click()\n",
    "# shift command backspace - clears cache\n",
    "\n",
    "goToCart = WebDriverWait(driver, 10).until(\n",
    "    EC.element_to_be_clickable((By.CLASS_NAME, \"c-self-identify__serviceability-success-button\"))\n",
    "    )\n",
    "goToCart.click()\n",
    "proceed = WebDriverWait(driver, 10).until(\n",
    "    EC.element_to_be_clickable((By.CLASS_NAME, \"c-cart__checkout-btn\"))\n",
    "    )\n",
    "proceed.click()\n",
    "\n",
    "# Shopping cart form\n",
    "# 1 contact details\n",
    "proceed = WebDriverWait(driver, 10).until(\n",
    "    EC.element_to_be_clickable((By.ID, \"firstName\"))\n",
    "    )\n",
    "proceed.send_keys('test')\n",
    "driver.find_element_by_id('lastName').send_keys('test')\n",
    "driver.find_element_by_id('contactEmail').send_keys('test@test.com')\n",
    "driver.find_element_by_id('contactPhoneNumber').send_keys('416-645-1500')\n",
    "driver.execute_script(\"document.querySelector('[aria-label=\\\"Save Contact details and continue to Service address\\\"]').click()\")\n",
    "# 2 service address\n",
    "driver.execute_script(\"document.querySelector('[aria-label=\\\"Save Service address details and continue to Installation\\\"]').click()\")\n",
    "# 3 installation\n",
    "driver.find_element_by_id('installPreferenceType').click()\n",
    "\n",
    "#driver.find_element_by_id('0').click()\n",
    "proceed = WebDriverWait(driver, 10).until(\n",
    "    EC.element_to_be_clickable((By.ID, \"0\"))\n",
    "    )\n",
    "proceed.click()\n",
    "proceed = WebDriverWait(driver, 10).until(\n",
    "    EC.element_to_be_clickable((By.CLASS_NAME, \"c-installation__save-and-continue\"))\n",
    "    )\n",
    "proceed.click()\n",
    "# 4 Billing information\n",
    "driver.execute_script(\"document.querySelector('[aria-label=\\\"Save billing information and continue to summary\\\"]').click()\")\n",
    "# 5 Value Plan agreement\n",
    "driver.execute_script(\"document.querySelector('[aria-label=\\\"Read and accept agreement this will be displayed in a dialog\\\"]').click()\")\n",
    "proceed = WebDriverWait(driver, 10).until(\n",
    "    EC.element_to_be_clickable((By.CLASS_NAME, \"c-fullwidth-button__icon--up\"))\n",
    "    )\n",
    "proceed.click()\n",
    "proceed = WebDriverWait(driver, 10).until(\n",
    "    EC.element_to_be_clickable((By.ID, \"accepted\"))\n",
    "    )\n",
    "proceed.click()\n",
    "driver.find_element_by_id('signature').click()\n",
    "driver.find_element_by_id('signature').send_keys('test test')\n",
    "driver.execute_script(\"document.querySelector('[aria-label=\\\"Accept Agreement\\\"]').click()\")\n",
    "proceed = WebDriverWait(driver, 10).until(\n",
    "    EC.element_to_be_clickable((By.CLASS_NAME, \"is-active--submit\"))\n",
    "    )\n",
    "proceed.click()\n",
    "\n",
    "\n",
    "\n",
    "\n",
    "\n",
    "\n",
    "\n",
    "\n"
   ]
  }
 ],
 "metadata": {
  "kernelspec": {
   "display_name": "Python 3",
   "language": "python",
   "name": "python3"
  },
  "language_info": {
   "codemirror_mode": {
    "name": "ipython",
    "version": 3
   },
   "file_extension": ".py",
   "mimetype": "text/x-python",
   "name": "python",
   "nbconvert_exporter": "python",
   "pygments_lexer": "ipython3",
   "version": "3.7.3"
  }
 },
 "nbformat": 4,
 "nbformat_minor": 2
}

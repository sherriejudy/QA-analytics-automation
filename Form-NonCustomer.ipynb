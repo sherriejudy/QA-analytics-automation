{
 "cells": [
  {
   "cell_type": "markdown",
   "metadata": {},
   "source": [
    "## Selenium Test Script for Automated QA (NonCustomer Form + exit/continue shopping)"
   ]
  },
  {
   "cell_type": "code",
   "execution_count": 1,
   "metadata": {},
   "outputs": [],
   "source": [
    "import os\n",
    "import time\n",
    "from selenium import webdriver\n",
    "from selenium.webdriver.common.keys import Keys\n",
    "from selenium.webdriver.chrome.options import Options\n",
    "from selenium.webdriver.common.by import By\n",
    "from selenium.webdriver.support.ui import WebDriverWait\n",
    "from selenium.webdriver.support import expected_conditions as EC"
   ]
  },
  {
   "cell_type": "markdown",
   "metadata": {},
   "source": [
    "- Loads extension from directory and adds it to Selenium instance. \n",
    "- Replace `unpacked_extension_path` with path for `adobe-debugger` on the local machine."
   ]
  },
  {
   "cell_type": "code",
   "execution_count": 2,
   "metadata": {},
   "outputs": [],
   "source": [
    "unpacked_extension_path = '/Users/judhu/shaw-data-bot/adobe-debugger'\n",
    "options = Options()\n",
    "\n",
    "options.add_argument('--load-extension={}'.format(unpacked_extension_path))\n",
    "driver = webdriver.Chrome('/Users/judhu/shaw-data-bot/chromedriver', options=options)\n"
   ]
  },
  {
   "cell_type": "markdown",
   "metadata": {},
   "source": [
    "All Selenium testing goes below this line.\n",
    "___"
   ]
  },
  {
   "cell_type": "code",
   "execution_count": 5,
   "metadata": {},
   "outputs": [],
   "source": [
    "#load desired webpage\n",
    "driver.get('https://test-ecommerce-discover-test-external.nonprod.dsl.aws.shaw.ca/')"
   ]
  },
  {
   "cell_type": "code",
   "execution_count": 7,
   "metadata": {},
   "outputs": [],
   "source": [
    "driver.get('https://test-ecommerce-discover-test-external.nonprod.dsl.aws.shaw.ca/')\n",
    "driver.get('https://test-ecommerce-discover-test-external.nonprod.dsl.aws.shaw.ca/bundles')\n",
    "driver.find_element_by_class_name('c-card__checkout-label').click()\n",
    "WebDriverWait(driver, 10).until(\n",
    "    EC.element_to_be_clickable((By.ID, \"No\"))\n",
    ")\n",
    "driver.execute_script(\"document.getElementById('No').click()\")\n",
    "driver.execute_script(\"document.querySelector('[aria-label=\\\"Submit your details\\\"]').click()\")\n",
    "\n",
    "element = WebDriverWait(driver, 10).until(\n",
    "    EC.element_to_be_clickable((By.ID, \"address\"))\n",
    ")\n",
    "element.click()\n",
    "\n",
    "locationField = driver.find_element_by_id('address')\n",
    "locationField.send_keys('121 Copperfield Grove Southeast, Calgary, AB, Canada') # you can't click enter to confirm\n",
    "\n",
    "WebDriverWait(driver, 10).until(\n",
    "    EC.element_to_be_clickable((By.ID, \"ChIJXwsBHvF3cVMRpneKEZEV9SE\"))\n",
    ") # this executes a script after, so no var\n",
    "driver.execute_script(\"document.getElementById('ChIJXwsBHvF3cVMRpneKEZEV9SE').click()\")\n",
    "\n",
    "element = WebDriverWait(driver, 10).until(\n",
    "    EC.element_to_be_clickable((By.CLASS_NAME, \"c-self-identify__validate-address-button\"))\n",
    ")\n",
    "element.click()\n",
    "# # shift command backspace - clears cache\n",
    "\n",
    "exit = WebDriverWait(driver, 10).until(\n",
    "    EC.element_to_be_clickable((By.CLASS_NAME, \"c-self-identify__close-icon\"))\n",
    ")\n",
    "exit.click()\n"
   ]
  },
  {
   "cell_type": "code",
   "execution_count": null,
   "metadata": {},
   "outputs": [],
   "source": []
  }
 ],
 "metadata": {
  "kernelspec": {
   "display_name": "Python 3",
   "language": "python",
   "name": "python3"
  },
  "language_info": {
   "codemirror_mode": {
    "name": "ipython",
    "version": 3
   },
   "file_extension": ".py",
   "mimetype": "text/x-python",
   "name": "python",
   "nbconvert_exporter": "python",
   "pygments_lexer": "ipython3",
   "version": "3.7.3"
  }
 },
 "nbformat": 4,
 "nbformat_minor": 2
}

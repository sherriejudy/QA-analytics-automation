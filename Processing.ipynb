{
 "cells": [
  {
   "cell_type": "markdown",
   "metadata": {},
   "source": [
    "### CSV Prettifier\n",
    "\n",
    "- Input: path of raw CSV files.\n",
    "- Output: CSV (single sheet)/XLSX (multiple sheets) files with improved readability."
   ]
  },
  {
   "cell_type": "code",
   "execution_count": 4,
   "metadata": {},
   "outputs": [],
   "source": [
    "def CSV_prettifier(path):\n",
    "    \n",
    "    \"\"\"\n",
    "    Input: path of raw .csv files from adobe debugger extension.\n",
    "    (i.e. path = '/Users/[username]/Downloads')\n",
    "    Output: .xlsx file with individual sheets for every hit + summary sheet.\n",
    "    \"\"\"\n",
    "    \n",
    "    import pandas as pd\n",
    "    import os\n",
    "    import glob\n",
    "    \n",
    "    # Read all csv files in specified path.\n",
    "    all_files = glob.glob1(path,\"*csv\")\n",
    "    \n",
    "    ep = pd.read_csv(path+ '/' +'Endpoints.csv', names=['Endpoints'])\n",
    "    dup_ep = ep\n",
    "    dup_ep['Result'] = 'FAILURE/REDIRECTED'\n",
    "    \n",
    "    # Remove any csv files that aren't part of analytics output.\n",
    "    for file in all_files:\n",
    "        if file[0:24] == 'adobe-analytics-data-raw':\n",
    "            pass\n",
    "        else:\n",
    "            all_files.remove(file)\n",
    "        \n",
    "    li = []\n",
    "    di = {}\n",
    "    #failure = []\n",
    "    #success = []\n",
    "    \n",
    "    # Read csv files to pandas and append to `li` for summary page and `di` for indiv sheets.\n",
    "    for filename in all_files:\n",
    "        x = path+ '/' +filename\n",
    "        df = pd.read_csv(x, index_col=None, header=0, sep='~~', engine='python')\n",
    "        df.set_index('Report Suite ID    ', inplace=True)\n",
    "        li.append(df)\n",
    "        \n",
    "        # If URL is isn't in the endpoints file, FAILED.\n",
    "        url = df.loc['Current URL        '][0].strip()\n",
    "        if url[-1] == '/':\n",
    "            url = url[:-1]\n",
    "            \n",
    "        if url in list(ep['Endpoints']):\n",
    "            i = ep[ep['Endpoints'] == url].index\n",
    "            dup_ep['Result'][i] = 'SUCCESS'\n",
    "            \n",
    "        \n",
    "        # Setting the name of each sheet to the webpage name.\n",
    "        if len(df.iloc[0][0]) <= 31:\n",
    "            di.update({ df.iloc[0][0] : df})\n",
    "        elif len(df.iloc[0][0]) > 31:\n",
    "            di.update({ 'home' : df})\n",
    "        \n",
    "        # Delete raw csv file after use.\n",
    "        os.remove(x)\n",
    "    \n",
    "    # Concat list of dataframes to generate summary page.\n",
    "    frame = pd.concat(li, axis=1, sort='False')\n",
    "    di.update({'Summary' : frame})\n",
    "    \n",
    "    writer = pd.ExcelWriter(path+ '/' +'shaw-pageloads.xlsx', engine='xlsxwriter')\n",
    "    \n",
    "    # Write each sheet to .xlsx file.\n",
    "    for sheet in di.keys():\n",
    "        di[sheet].to_excel(writer, sheet_name=sheet, index=True)\n",
    "    \n",
    "    #dup_ep.fillna('FAILURE/REDIRECTED')\n",
    "    dup_ep.to_csv(path+ '/' +'Endpoints-final.csv',index=False)\n",
    "    writer.save()"
   ]
  },
  {
   "cell_type": "code",
   "execution_count": 5,
   "metadata": {},
   "outputs": [],
   "source": [
    "path = '/Users/adekadam/Documents/GitHub/shaw-data-bot/hits'"
   ]
  },
  {
   "cell_type": "code",
   "execution_count": 6,
   "metadata": {},
   "outputs": [],
   "source": [
    "CSV_prettifier(path)"
   ]
  },
  {
   "cell_type": "code",
   "execution_count": null,
   "metadata": {},
   "outputs": [],
   "source": []
  }
 ],
 "metadata": {
  "kernelspec": {
   "display_name": "Python 3",
   "language": "python",
   "name": "python3"
  },
  "language_info": {
   "codemirror_mode": {
    "name": "ipython",
    "version": 3
   },
   "file_extension": ".py",
   "mimetype": "text/x-python",
   "name": "python",
   "nbconvert_exporter": "python",
   "pygments_lexer": "ipython3",
   "version": "3.7.3"
  }
 },
 "nbformat": 4,
 "nbformat_minor": 2
}

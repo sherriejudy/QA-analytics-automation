{
 "cells": [
  {
   "cell_type": "markdown",
   "metadata": {},
   "source": [
    "### CSV Prettifier\n",
    "\n",
    "- Input: path of raw CSV files.\n",
    "- Output: CSV (single sheet)/XLSX (multiple sheets) files with improved readability."
   ]
  },
  {
   "cell_type": "code",
   "execution_count": 51,
   "metadata": {},
   "outputs": [],
   "source": [
    "# ### CSV Processing\n",
    "#\n",
    "# - Input: path of raw CSV files.\n",
    "# - Output: CSV (single sheet)/XLSX (multiple sheets) files with improved readability.\n",
    "\n",
    "def http_https (x):\n",
    "    if x[0:7] == 'http://':\n",
    "        x = x.replace('http://', 'https://', 1)\n",
    "    return x\n",
    "\n",
    "def prodStr (df):\n",
    "    '''\n",
    "    df: pandas dataframe that needs product string parsing.\n",
    "    output: product string to text file (type:str)\n",
    "    '''\n",
    "    \n",
    "    # Delimiters for product string in order is: (1) ',' (2) ';'\n",
    "    products = test.strip()\n",
    "    products = products.split(',')\n",
    "    prostr = '\\n'\n",
    "\n",
    "    # Dictionary of categories for product string.\n",
    "    dictProducts = {0: 'Category : ',\n",
    "                    1: 'Product  : ',\n",
    "                    2: 'Quantity : ',\n",
    "                    3: 'Price    : ',\n",
    "                    4: 'Events   : ',\n",
    "                    5: 'eVars    : '}\n",
    "\n",
    "    count = 0\n",
    "    prodDict = []\n",
    "\n",
    "    for i in products:\n",
    "        # Add a new line to the string if it isn't the first item of the product.\n",
    "        prostr = prostr + ('' if (i == 0) else '\\n')\n",
    "        item = i.split(';')\n",
    "\n",
    "        countj = 0\n",
    "        for j in item:\n",
    "            # Map dictionary to product string components.\n",
    "            prostr = prostr + ((dictProducts[countj]) if countj<=5 else '    ')\n",
    "            prostr = prostr + j + '\\n'\n",
    "            prodDict.append(((dictProducts[countj]) if countj<=5 else '    ')+j)\n",
    "            countj = countj + 1\n",
    "        count = count + 1\n",
    "\n",
    "    l = []\n",
    "    d = {}\n",
    "\n",
    "    for i in range(len(prodDict)):\n",
    "        d[prodDict[i][0:9]] = prodDict[i][11:]\n",
    "        if (i + 1) % 6 == 0:\n",
    "            l.append(d)\n",
    "            d = {}\n",
    "\n",
    "    ps = pd.DataFrame(l)\n",
    "    ps.to_csv('product-strings.csv')\n",
    "\n",
    "def CSV_prettifier(path, endpoints, outfile, forms = False):\n",
    "\n",
    "    \"\"\"\n",
    "    This function takes the raw csv files from the adobe debugger chrome extension and makes them more readable.\n",
    "    \n",
    "    Parameters\n",
    "    ----------\n",
    "    path : system file path to folder with raw csv files (type: string).\n",
    "    endpoints : name of endpoints file from pageloads or link clicks (type: string).\n",
    "    outfile : name of output .xlsx file with summary page and individual pages (type: string).\n",
    "    forms : if the function needs to perform form filling or not, False by default (type: bool).\n",
    "    \"\"\"\n",
    "\n",
    "    import pandas as pd\n",
    "    import os\n",
    "    import glob\n",
    "    from pathlib import Path\n",
    "\n",
    "    # Read all csv files in specified path.\n",
    "    all_files = glob.glob1(path, \"*csv\")\n",
    "\n",
    "    # If forms is set to False, open endpoints and set all links to 'FAILED' status.\n",
    "    if not forms:\n",
    "        ep = pd.read_csv(str(Path(path + '/' + endpoints)), names=['Endpoints'])\n",
    "        dup_ep = ep\n",
    "        ep['Endpoints'] = ep['Endpoints'].apply(lambda x: http_https(x))\n",
    "        dup_ep['Result'] = 'FAILURE/REDIRECTED'\n",
    "\n",
    "    # Remove any csv files that aren't part of analytics output from the list (doesn't delete files).\n",
    "    for file in all_files:\n",
    "        if file[0:24] == 'adobe-analytics-data-raw':\n",
    "            pass\n",
    "        else:\n",
    "            all_files.remove(file)\n",
    "\n",
    "    li = []\n",
    "    di = {}\n",
    "\n",
    "    # Read csv files to pandas and append to `li` for summary page and `di` for individual sheets.\n",
    "    for filename in all_files:\n",
    "        x = str(Path(path + '/' + filename))\n",
    "        df = pd.read_csv(x, index_col=None, header=0, sep='~~', engine='python')\n",
    "        df['Report Suite ID    '] = df['Report Suite ID    '].apply(lambda x: x.strip())\n",
    "        df.set_index('Report Suite ID    ', inplace=True)\n",
    "\n",
    "        # Checks if 'Products' index exists and prints to a text file (keeps appending).\n",
    "        if 'Products' in df.index:\n",
    "            prodStr(df)\n",
    "\n",
    "        li.append(df)\n",
    "\n",
    "        # If we aren't form filling, then compare current URL to endpoints URLs.\n",
    "        if not forms:\n",
    "            # If URL is isn't in the endpoints file, FAILED.\n",
    "            url = df.loc['Current URL'][0].strip()\n",
    "            if url[-1] == '/':\n",
    "                url = url[:-1]\n",
    "\n",
    "            if url in list(ep['Endpoints']):\n",
    "                i = ep[ep['Endpoints'] == url].index\n",
    "                dup_ep['Result'][i] = 'SUCCESS'\n",
    "\n",
    "        # Setting the name of each sheet to the webpage name.\n",
    "        if df.iloc[0][0] == ' https://www.shaw.ca/':\n",
    "            di.update({'shawca': df})\n",
    "        elif len(df.iloc[0][0]) <= 31:\n",
    "            di.update({df.iloc[0][0]: df})\n",
    "        elif len(df.iloc[0][0]) > 31:\n",
    "            di.update({'home': df})\n",
    "\n",
    "        # Delete raw csv file after use.\n",
    "        #oos.remove(x)\n",
    "\n",
    "    # Concat list of dataframes to generate summary page.\n",
    "    frame = pd.concat(li, axis=1, sort='False')\n",
    "    di.update({'Summary': frame})\n",
    "\n",
    "    writer = pd.ExcelWriter(str(Path(path + '/' + outfile)), engine='xlsxwriter')\n",
    "\n",
    "    # Write each sheet to .xlsx file.\n",
    "    for sheet in di.keys():\n",
    "        di[sheet].to_excel(writer, sheet_name=sheet, index=True)\n",
    "    if not forms:\n",
    "        dup_ep.to_csv(str(Path(path + '/' + endpoints)), index=False)\n",
    "        \n",
    "    writer.save()\n"
   ]
  },
  {
   "cell_type": "code",
   "execution_count": 52,
   "metadata": {},
   "outputs": [],
   "source": [
    "path = '/Users/adekadam/Downloads'\n",
    "endpoints = 'Endpoints.csv'"
   ]
  },
  {
   "cell_type": "code",
   "execution_count": 53,
   "metadata": {},
   "outputs": [],
   "source": [
    "CSV_prettifier(path, 'Endpoints.csv', 'Shaw-pageloads2.xlsx', False)"
   ]
  },
  {
   "cell_type": "code",
   "execution_count": 13,
   "metadata": {},
   "outputs": [
    {
     "data": {
      "text/plain": [
       "'https://www.shaw.ca/tv'"
      ]
     },
     "execution_count": 13,
     "metadata": {},
     "output_type": "execute_result"
    }
   ],
   "source": [
    "url"
   ]
  },
  {
   "cell_type": "code",
   "execution_count": 14,
   "metadata": {},
   "outputs": [
    {
     "data": {
      "text/plain": [
       "['http://www.shaw.ca',\n",
       " 'https://business.shaw.ca',\n",
       " 'https://community.shaw.ca',\n",
       " 'https://my.shaw.ca',\n",
       " 'https://webmail.shaw.ca',\n",
       " 'http://www.shaw.ca/contact-us',\n",
       " 'http://www.shaw.ca/bluecurve',\n",
       " 'http://www.shaw.ca/bluecurve/bluecurve-pods',\n",
       " 'http://www.shaw.ca/internet',\n",
       " 'http://www.shaw.ca/internet/wifi',\n",
       " 'http://www.shaw.ca/internet/fibreplus',\n",
       " 'http://www.shaw.ca/tv',\n",
       " 'http://www.shaw.ca/tv/freerangetv',\n",
       " 'http://www.shaw.ca/tv/programming',\n",
       " 'http://www.shaw.ca/tv/programming/channels',\n",
       " 'http://www.shaw.ca/tv/programming/channels/channel-listings',\n",
       " 'http://www.shaw.ca/tv/programming/channels/pick-and-pay',\n",
       " 'http://www.shaw.ca/tv/programming/channels/premium',\n",
       " 'http://www.shaw.ca/tv/programming/channels/news-and-free-previews',\n",
       " 'http://www.shaw.ca/home-phone',\n",
       " 'http://www.shaw.ca/bundles']"
      ]
     },
     "execution_count": 14,
     "metadata": {},
     "output_type": "execute_result"
    }
   ],
   "source": [
    "list(ep['Endpoints'])"
   ]
  },
  {
   "cell_type": "code",
   "execution_count": 55,
   "metadata": {},
   "outputs": [],
   "source": [
    "def http_https (x):\n",
    "    if x[0:7] == 'http://':\n",
    "        x = x.replace('http://', 'https://', 1)\n",
    "    return x"
   ]
  },
  {
   "cell_type": "code",
   "execution_count": 56,
   "metadata": {},
   "outputs": [
    {
     "data": {
      "text/plain": [
       "'https://www.shaw.ca/bundles'"
      ]
     },
     "execution_count": 56,
     "metadata": {},
     "output_type": "execute_result"
    }
   ],
   "source": [
    "http_https('http://www.shaw.ca/bundles')"
   ]
  },
  {
   "cell_type": "code",
   "execution_count": 58,
   "metadata": {},
   "outputs": [],
   "source": [
    "ep['Endpoints'] = ep['Endpoints'].apply(lambda x:http_https(x))"
   ]
  },
  {
   "cell_type": "code",
   "execution_count": 59,
   "metadata": {},
   "outputs": [
    {
     "data": {
      "text/plain": [
       "0                                   https://www.shaw.ca\n",
       "1                              https://business.shaw.ca\n",
       "2                             https://community.shaw.ca\n",
       "3                                    https://my.shaw.ca\n",
       "4                               https://webmail.shaw.ca\n",
       "5                        https://www.shaw.ca/contact-us\n",
       "6                         https://www.shaw.ca/bluecurve\n",
       "7          https://www.shaw.ca/bluecurve/bluecurve-pods\n",
       "8                          https://www.shaw.ca/internet\n",
       "9                     https://www.shaw.ca/internet/wifi\n",
       "10               https://www.shaw.ca/internet/fibreplus\n",
       "11                               https://www.shaw.ca/tv\n",
       "12                   https://www.shaw.ca/tv/freerangetv\n",
       "13                   https://www.shaw.ca/tv/programming\n",
       "14          https://www.shaw.ca/tv/programming/channels\n",
       "15    https://www.shaw.ca/tv/programming/channels/ch...\n",
       "16    https://www.shaw.ca/tv/programming/channels/pi...\n",
       "17    https://www.shaw.ca/tv/programming/channels/pr...\n",
       "18    https://www.shaw.ca/tv/programming/channels/ne...\n",
       "19                       https://www.shaw.ca/home-phone\n",
       "20                          https://www.shaw.ca/bundles\n",
       "Name: Endpoints, dtype: object"
      ]
     },
     "execution_count": 59,
     "metadata": {},
     "output_type": "execute_result"
    }
   ],
   "source": [
    "ep['Endpoints']"
   ]
  },
  {
   "cell_type": "code",
   "execution_count": 3,
   "metadata": {},
   "outputs": [],
   "source": [
    "# Delimiters for product string in order is: (1) ',' (2) ';'\n",
    "products = test.strip()\n",
    "products = products.split(',')\n",
    "prostr = '\\n'\n",
    "\n",
    "# Dictionary of categories for product string.\n",
    "dictProducts = {0: 'Category : ',\n",
    "                1: 'Product  : ',\n",
    "                2: 'Quantity : ',\n",
    "                3: 'Price    : ',\n",
    "                4: 'Events   : ',\n",
    "                5: 'eVars    : '}\n",
    "\n",
    "count = 0\n",
    "prodDict = []\n",
    "\n",
    "for i in products:\n",
    "    # Add a new line to the string if it isn't the first item of the product.\n",
    "    prostr = prostr + ('' if (i == 0) else '\\n')\n",
    "    item = i.split(';')\n",
    "\n",
    "    countj = 0\n",
    "    for j in item:\n",
    "        # Map dictionary to product string components.\n",
    "        prostr = prostr + ((dictProducts[countj]) if countj<=5 else '    ')\n",
    "        prostr = prostr + j + '\\n'\n",
    "        prodDict.append(((dictProducts[countj]) if countj<=5 else '    ')+j)\n",
    "        countj = countj + 1\n",
    "    count = count + 1\n",
    "\n",
    "l = []\n",
    "d = {}\n",
    "\n",
    "for i in range(len(prodDict)):\n",
    "    d[prodDict[i][0:9]] = prodDict[i][11:]\n",
    "    if (i + 1) % 6 == 0:\n",
    "        l.append(d)\n",
    "        d = {}\n",
    "\n",
    "ps = pd.DataFrame(l)\n",
    "ps.to_csv('product-strings.csv')"
   ]
  },
  {
   "cell_type": "code",
   "execution_count": null,
   "metadata": {},
   "outputs": [],
   "source": []
  }
 ],
 "metadata": {
  "kernelspec": {
   "display_name": "Python 3",
   "language": "python",
   "name": "python3"
  },
  "language_info": {
   "codemirror_mode": {
    "name": "ipython",
    "version": 3
   },
   "file_extension": ".py",
   "mimetype": "text/x-python",
   "name": "python",
   "nbconvert_exporter": "python",
   "pygments_lexer": "ipython3",
   "version": "3.7.3"
  }
 },
 "nbformat": 4,
 "nbformat_minor": 2
}

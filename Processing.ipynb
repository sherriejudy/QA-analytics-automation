{
 "cells": [
  {
   "cell_type": "markdown",
   "metadata": {},
   "source": [
    "### CSV Prettifier\n",
    "\n",
    "- Input: path of raw CSV files.\n",
    "- Output: CSV (single sheet)/XLSX (multiple sheets) files with improved readability."
   ]
  },
  {
   "cell_type": "code",
   "execution_count": 51,
   "metadata": {},
   "outputs": [],
   "source": [
    "# ### CSV Processing\n",
    "#\n",
    "# - Input: path of raw CSV files.\n",
    "# - Output: CSV (single sheet)/XLSX (multiple sheets) files with improved readability.\n",
    "\n",
    "def http_https (x):\n",
    "    if x[0:7] == 'http://':\n",
    "        x = x.replace('http://', 'https://', 1)\n",
    "    return x\n",
    "\n",
    "def prodStr (df):\n",
    "    '''\n",
    "    df: pandas dataframe that needs product string parsing.\n",
    "    output: product string to text file (type:str)\n",
    "    '''\n",
    "    \n",
    "    # Delimiters for product string in order is: (1) ',' (2) ';'\n",
    "    products = df.loc['Products'][0].strip()\n",
    "    products = products.split(',')\n",
    "    prostr = '\\n'\n",
    "\n",
    "    # Dictionary of categories for product string.\n",
    "    dictProducts = {0: 'Category : ',\n",
    "                    1: 'Product  : ',\n",
    "                    2: 'Quantity : ',\n",
    "                    3: 'Price    : ',\n",
    "                    4: 'Events   : ',\n",
    "                    5: 'eVars    : '}\n",
    "\n",
    "    count = 0\n",
    "    for i in products:\n",
    "        # Add a new line to the string if it isn't the first item of the product.\n",
    "        prostr = prostr + ('' if (i == 0) else '\\n') + '    #'+ (str(count+1)) + '\\n'\n",
    "        item = i.split(';')\n",
    "\n",
    "        countj = 0\n",
    "        for j in item:\n",
    "            # Map dictionary to product string components.\n",
    "            prostr = prostr + (('    ' + dictProducts[countj]) if countj<=5 else '    ')\n",
    "            prostr = prostr + j + '\\n'\n",
    "            countj = countj + 1\n",
    "        count = count + 1\n",
    "    return prostr\n",
    "\n",
    "def CSV_prettifier(path, endpoints, outfile, forms = False):\n",
    "\n",
    "    \"\"\"\n",
    "    This function takes the raw csv files from the adobe debugger chrome extension and makes them more readable.\n",
    "    \n",
    "    Parameters\n",
    "    ----------\n",
    "    path : system file path to folder with raw csv files (type: string).\n",
    "    endpoints : name of endpoints file from pageloads or link clicks (type: string).\n",
    "    outfile : name of output .xlsx file with summary page and individual pages (type: string).\n",
    "    forms : if the function needs to perform form filling or not, False by default (type: bool).\n",
    "    \"\"\"\n",
    "\n",
    "    import pandas as pd\n",
    "    import os\n",
    "    import glob\n",
    "    from pathlib import Path\n",
    "\n",
    "    # Read all csv files in specified path.\n",
    "    all_files = glob.glob1(path, \"*csv\")\n",
    "\n",
    "    # If forms is set to False, open endpoints and set all links to 'FAILED' status.\n",
    "    if not forms:\n",
    "        ep = pd.read_csv(str(Path(path + '/' + endpoints)), names=['Endpoints'])\n",
    "        dup_ep = ep\n",
    "        ep['Endpoints'] = ep['Endpoints'].apply(lambda x: http_https(x))\n",
    "        dup_ep['Result'] = 'FAILURE/REDIRECTED'\n",
    "\n",
    "    # Remove any csv files that aren't part of analytics output from the list (doesn't delete files).\n",
    "    for file in all_files:\n",
    "        if file[0:24] == 'adobe-analytics-data-raw':\n",
    "            pass\n",
    "        else:\n",
    "            all_files.remove(file)\n",
    "\n",
    "    li = []\n",
    "    di = {}\n",
    "\n",
    "    # Read csv files to pandas and append to `li` for summary page and `di` for individual sheets.\n",
    "    for filename in all_files:\n",
    "        x = str(Path(path + '/' + filename))\n",
    "        df = pd.read_csv(x, index_col=None, header=0, sep='~~', engine='python')\n",
    "        df['Report Suite ID    '] = df['Report Suite ID    '].apply(lambda x: x.strip())\n",
    "        df.set_index('Report Suite ID    ', inplace=True)\n",
    "\n",
    "        # Checks if 'Products' index exists and prints to a text file (keeps appending).\n",
    "        if 'Products' in df.index:\n",
    "            product_str = prodStr(df)\n",
    "            df.loc['Products'][0] = product_str\n",
    "            with open(str(Path(path + '/' + 'product-strings.txt')), \"a\") as text_file:\n",
    "                print(df.iloc[0][0] + '\\n' + product_str, file=text_file)\n",
    "            text_file.close()\n",
    "\n",
    "        li.append(df)\n",
    "\n",
    "        # If we aren't form filling, then compare current URL to endpoints URLs.\n",
    "        if not forms:\n",
    "            # If URL is isn't in the endpoints file, FAILED.\n",
    "            url = df.loc['Current URL'][0].strip()\n",
    "            if url[-1] == '/':\n",
    "                url = url[:-1]\n",
    "\n",
    "            if url in list(ep['Endpoints']):\n",
    "                i = ep[ep['Endpoints'] == url].index\n",
    "                dup_ep['Result'][i] = 'SUCCESS'\n",
    "\n",
    "        # Setting the name of each sheet to the webpage name.\n",
    "        if df.iloc[0][0] == ' https://www.shaw.ca/':\n",
    "            di.update({'shawca': df})\n",
    "        elif len(df.iloc[0][0]) <= 31:\n",
    "            di.update({df.iloc[0][0]: df})\n",
    "        elif len(df.iloc[0][0]) > 31:\n",
    "            di.update({'home': df})\n",
    "\n",
    "        # Delete raw csv file after use.\n",
    "        #oos.remove(x)\n",
    "\n",
    "    # Concat list of dataframes to generate summary page.\n",
    "    frame = pd.concat(li, axis=1, sort='False')\n",
    "    di.update({'Summary': frame})\n",
    "\n",
    "    writer = pd.ExcelWriter(str(Path(path + '/' + outfile)), engine='xlsxwriter')\n",
    "\n",
    "    # Write each sheet to .xlsx file.\n",
    "    for sheet in di.keys():\n",
    "        di[sheet].to_excel(writer, sheet_name=sheet, index=True)\n",
    "    if not forms:\n",
    "        dup_ep.to_csv(str(Path(path + '/' + endpoints)), index=False)\n",
    "        \n",
    "    writer.save()\n"
   ]
  },
  {
   "cell_type": "code",
   "execution_count": 52,
   "metadata": {},
   "outputs": [],
   "source": [
    "path = '/Users/adekadam/Downloads'\n",
    "endpoints = 'Endpoints.csv'"
   ]
  },
  {
   "cell_type": "code",
   "execution_count": 53,
   "metadata": {},
   "outputs": [],
   "source": [
    "CSV_prettifier(path, 'Endpoints.csv', 'Shaw-pageloads2.xlsx', False)"
   ]
  },
  {
   "cell_type": "code",
   "execution_count": 13,
   "metadata": {},
   "outputs": [
    {
     "data": {
      "text/plain": [
       "'https://www.shaw.ca/tv'"
      ]
     },
     "execution_count": 13,
     "metadata": {},
     "output_type": "execute_result"
    }
   ],
   "source": [
    "url"
   ]
  },
  {
   "cell_type": "code",
   "execution_count": 14,
   "metadata": {},
   "outputs": [
    {
     "data": {
      "text/plain": [
       "['http://www.shaw.ca',\n",
       " 'https://business.shaw.ca',\n",
       " 'https://community.shaw.ca',\n",
       " 'https://my.shaw.ca',\n",
       " 'https://webmail.shaw.ca',\n",
       " 'http://www.shaw.ca/contact-us',\n",
       " 'http://www.shaw.ca/bluecurve',\n",
       " 'http://www.shaw.ca/bluecurve/bluecurve-pods',\n",
       " 'http://www.shaw.ca/internet',\n",
       " 'http://www.shaw.ca/internet/wifi',\n",
       " 'http://www.shaw.ca/internet/fibreplus',\n",
       " 'http://www.shaw.ca/tv',\n",
       " 'http://www.shaw.ca/tv/freerangetv',\n",
       " 'http://www.shaw.ca/tv/programming',\n",
       " 'http://www.shaw.ca/tv/programming/channels',\n",
       " 'http://www.shaw.ca/tv/programming/channels/channel-listings',\n",
       " 'http://www.shaw.ca/tv/programming/channels/pick-and-pay',\n",
       " 'http://www.shaw.ca/tv/programming/channels/premium',\n",
       " 'http://www.shaw.ca/tv/programming/channels/news-and-free-previews',\n",
       " 'http://www.shaw.ca/home-phone',\n",
       " 'http://www.shaw.ca/bundles']"
      ]
     },
     "execution_count": 14,
     "metadata": {},
     "output_type": "execute_result"
    }
   ],
   "source": [
    "list(ep['Endpoints'])"
   ]
  },
  {
   "cell_type": "code",
   "execution_count": 55,
   "metadata": {},
   "outputs": [],
   "source": [
    "def http_https (x):\n",
    "    if x[0:7] == 'http://':\n",
    "        x = x.replace('http://', 'https://', 1)\n",
    "    return x"
   ]
  },
  {
   "cell_type": "code",
   "execution_count": 56,
   "metadata": {},
   "outputs": [
    {
     "data": {
      "text/plain": [
       "'https://www.shaw.ca/bundles'"
      ]
     },
     "execution_count": 56,
     "metadata": {},
     "output_type": "execute_result"
    }
   ],
   "source": [
    "http_https('http://www.shaw.ca/bundles')"
   ]
  },
  {
   "cell_type": "code",
   "execution_count": 58,
   "metadata": {},
   "outputs": [],
   "source": [
    "ep['Endpoints'] = ep['Endpoints'].apply(lambda x:http_https(x))"
   ]
  },
  {
   "cell_type": "code",
   "execution_count": 59,
   "metadata": {},
   "outputs": [
    {
     "data": {
      "text/plain": [
       "0                                   https://www.shaw.ca\n",
       "1                              https://business.shaw.ca\n",
       "2                             https://community.shaw.ca\n",
       "3                                    https://my.shaw.ca\n",
       "4                               https://webmail.shaw.ca\n",
       "5                        https://www.shaw.ca/contact-us\n",
       "6                         https://www.shaw.ca/bluecurve\n",
       "7          https://www.shaw.ca/bluecurve/bluecurve-pods\n",
       "8                          https://www.shaw.ca/internet\n",
       "9                     https://www.shaw.ca/internet/wifi\n",
       "10               https://www.shaw.ca/internet/fibreplus\n",
       "11                               https://www.shaw.ca/tv\n",
       "12                   https://www.shaw.ca/tv/freerangetv\n",
       "13                   https://www.shaw.ca/tv/programming\n",
       "14          https://www.shaw.ca/tv/programming/channels\n",
       "15    https://www.shaw.ca/tv/programming/channels/ch...\n",
       "16    https://www.shaw.ca/tv/programming/channels/pi...\n",
       "17    https://www.shaw.ca/tv/programming/channels/pr...\n",
       "18    https://www.shaw.ca/tv/programming/channels/ne...\n",
       "19                       https://www.shaw.ca/home-phone\n",
       "20                          https://www.shaw.ca/bundles\n",
       "Name: Endpoints, dtype: object"
      ]
     },
     "execution_count": 59,
     "metadata": {},
     "output_type": "execute_result"
    }
   ],
   "source": [
    "ep['Endpoints']"
   ]
  },
  {
   "cell_type": "code",
   "execution_count": 61,
   "metadata": {},
   "outputs": [
    {
     "name": "stdout",
     "output_type": "stream",
     "text": [
      "Yes\n"
     ]
    }
   ],
   "source": [
    "if url in list(ep['Endpoints']):\n",
    "    print('Yes')\n",
    "    "
   ]
  },
  {
   "cell_type": "code",
   "execution_count": 64,
   "metadata": {},
   "outputs": [],
   "source": [
    "i = ep[ep['Endpoints'] == url].index"
   ]
  },
  {
   "cell_type": "code",
   "execution_count": 66,
   "metadata": {},
   "outputs": [],
   "source": [
    "dup_ep['Result'][i] = 'SUCCESS'"
   ]
  },
  {
   "cell_type": "code",
   "execution_count": 67,
   "metadata": {},
   "outputs": [
    {
     "data": {
      "text/html": [
       "<div>\n",
       "<style scoped>\n",
       "    .dataframe tbody tr th:only-of-type {\n",
       "        vertical-align: middle;\n",
       "    }\n",
       "\n",
       "    .dataframe tbody tr th {\n",
       "        vertical-align: top;\n",
       "    }\n",
       "\n",
       "    .dataframe thead th {\n",
       "        text-align: right;\n",
       "    }\n",
       "</style>\n",
       "<table border=\"1\" class=\"dataframe\">\n",
       "  <thead>\n",
       "    <tr style=\"text-align: right;\">\n",
       "      <th></th>\n",
       "      <th>Endpoints</th>\n",
       "      <th>Result</th>\n",
       "    </tr>\n",
       "  </thead>\n",
       "  <tbody>\n",
       "    <tr>\n",
       "      <th>0</th>\n",
       "      <td>https://www.shaw.ca</td>\n",
       "      <td>FAILURE/REDIRECTED</td>\n",
       "    </tr>\n",
       "    <tr>\n",
       "      <th>1</th>\n",
       "      <td>https://business.shaw.ca</td>\n",
       "      <td>SUCCESS</td>\n",
       "    </tr>\n",
       "    <tr>\n",
       "      <th>2</th>\n",
       "      <td>https://community.shaw.ca</td>\n",
       "      <td>SUCCESS</td>\n",
       "    </tr>\n",
       "    <tr>\n",
       "      <th>3</th>\n",
       "      <td>https://my.shaw.ca</td>\n",
       "      <td>FAILURE/REDIRECTED</td>\n",
       "    </tr>\n",
       "    <tr>\n",
       "      <th>4</th>\n",
       "      <td>https://webmail.shaw.ca</td>\n",
       "      <td>FAILURE/REDIRECTED</td>\n",
       "    </tr>\n",
       "    <tr>\n",
       "      <th>5</th>\n",
       "      <td>https://www.shaw.ca/contact-us</td>\n",
       "      <td>FAILURE/REDIRECTED</td>\n",
       "    </tr>\n",
       "    <tr>\n",
       "      <th>6</th>\n",
       "      <td>https://www.shaw.ca/bluecurve</td>\n",
       "      <td>FAILURE/REDIRECTED</td>\n",
       "    </tr>\n",
       "    <tr>\n",
       "      <th>7</th>\n",
       "      <td>https://www.shaw.ca/bluecurve/bluecurve-pods</td>\n",
       "      <td>FAILURE/REDIRECTED</td>\n",
       "    </tr>\n",
       "    <tr>\n",
       "      <th>8</th>\n",
       "      <td>https://www.shaw.ca/internet</td>\n",
       "      <td>FAILURE/REDIRECTED</td>\n",
       "    </tr>\n",
       "    <tr>\n",
       "      <th>9</th>\n",
       "      <td>https://www.shaw.ca/internet/wifi</td>\n",
       "      <td>FAILURE/REDIRECTED</td>\n",
       "    </tr>\n",
       "    <tr>\n",
       "      <th>10</th>\n",
       "      <td>https://www.shaw.ca/internet/fibreplus</td>\n",
       "      <td>FAILURE/REDIRECTED</td>\n",
       "    </tr>\n",
       "    <tr>\n",
       "      <th>11</th>\n",
       "      <td>https://www.shaw.ca/tv</td>\n",
       "      <td>SUCCESS</td>\n",
       "    </tr>\n",
       "    <tr>\n",
       "      <th>12</th>\n",
       "      <td>https://www.shaw.ca/tv/freerangetv</td>\n",
       "      <td>FAILURE/REDIRECTED</td>\n",
       "    </tr>\n",
       "    <tr>\n",
       "      <th>13</th>\n",
       "      <td>https://www.shaw.ca/tv/programming</td>\n",
       "      <td>FAILURE/REDIRECTED</td>\n",
       "    </tr>\n",
       "    <tr>\n",
       "      <th>14</th>\n",
       "      <td>https://www.shaw.ca/tv/programming/channels</td>\n",
       "      <td>FAILURE/REDIRECTED</td>\n",
       "    </tr>\n",
       "    <tr>\n",
       "      <th>15</th>\n",
       "      <td>https://www.shaw.ca/tv/programming/channels/ch...</td>\n",
       "      <td>FAILURE/REDIRECTED</td>\n",
       "    </tr>\n",
       "    <tr>\n",
       "      <th>16</th>\n",
       "      <td>https://www.shaw.ca/tv/programming/channels/pi...</td>\n",
       "      <td>FAILURE/REDIRECTED</td>\n",
       "    </tr>\n",
       "    <tr>\n",
       "      <th>17</th>\n",
       "      <td>https://www.shaw.ca/tv/programming/channels/pr...</td>\n",
       "      <td>FAILURE/REDIRECTED</td>\n",
       "    </tr>\n",
       "    <tr>\n",
       "      <th>18</th>\n",
       "      <td>https://www.shaw.ca/tv/programming/channels/ne...</td>\n",
       "      <td>FAILURE/REDIRECTED</td>\n",
       "    </tr>\n",
       "    <tr>\n",
       "      <th>19</th>\n",
       "      <td>https://www.shaw.ca/home-phone</td>\n",
       "      <td>FAILURE/REDIRECTED</td>\n",
       "    </tr>\n",
       "    <tr>\n",
       "      <th>20</th>\n",
       "      <td>https://www.shaw.ca/bundles</td>\n",
       "      <td>FAILURE/REDIRECTED</td>\n",
       "    </tr>\n",
       "  </tbody>\n",
       "</table>\n",
       "</div>"
      ],
      "text/plain": [
       "                                            Endpoints              Result\n",
       "0                                 https://www.shaw.ca  FAILURE/REDIRECTED\n",
       "1                            https://business.shaw.ca             SUCCESS\n",
       "2                           https://community.shaw.ca             SUCCESS\n",
       "3                                  https://my.shaw.ca  FAILURE/REDIRECTED\n",
       "4                             https://webmail.shaw.ca  FAILURE/REDIRECTED\n",
       "5                      https://www.shaw.ca/contact-us  FAILURE/REDIRECTED\n",
       "6                       https://www.shaw.ca/bluecurve  FAILURE/REDIRECTED\n",
       "7        https://www.shaw.ca/bluecurve/bluecurve-pods  FAILURE/REDIRECTED\n",
       "8                        https://www.shaw.ca/internet  FAILURE/REDIRECTED\n",
       "9                   https://www.shaw.ca/internet/wifi  FAILURE/REDIRECTED\n",
       "10             https://www.shaw.ca/internet/fibreplus  FAILURE/REDIRECTED\n",
       "11                             https://www.shaw.ca/tv             SUCCESS\n",
       "12                 https://www.shaw.ca/tv/freerangetv  FAILURE/REDIRECTED\n",
       "13                 https://www.shaw.ca/tv/programming  FAILURE/REDIRECTED\n",
       "14        https://www.shaw.ca/tv/programming/channels  FAILURE/REDIRECTED\n",
       "15  https://www.shaw.ca/tv/programming/channels/ch...  FAILURE/REDIRECTED\n",
       "16  https://www.shaw.ca/tv/programming/channels/pi...  FAILURE/REDIRECTED\n",
       "17  https://www.shaw.ca/tv/programming/channels/pr...  FAILURE/REDIRECTED\n",
       "18  https://www.shaw.ca/tv/programming/channels/ne...  FAILURE/REDIRECTED\n",
       "19                     https://www.shaw.ca/home-phone  FAILURE/REDIRECTED\n",
       "20                        https://www.shaw.ca/bundles  FAILURE/REDIRECTED"
      ]
     },
     "execution_count": 67,
     "metadata": {},
     "output_type": "execute_result"
    }
   ],
   "source": [
    "dup_ep"
   ]
  },
  {
   "cell_type": "code",
   "execution_count": null,
   "metadata": {},
   "outputs": [],
   "source": [
    "if url in list(ep['Endpoints']):\n",
    "                i = ep[ep['Endpoints'] == url].index\n",
    "                dup_ep['Result'][i] = 'SUCCESS'"
   ]
  },
  {
   "cell_type": "code",
   "execution_count": 1,
   "metadata": {},
   "outputs": [
    {
     "ename": "NameError",
     "evalue": "name 'df' is not defined",
     "output_type": "error",
     "traceback": [
      "\u001b[0;31m---------------------------------------------------------------------------\u001b[0m",
      "\u001b[0;31mNameError\u001b[0m                                 Traceback (most recent call last)",
      "\u001b[0;32m<ipython-input-1-00cf07b74dcd>\u001b[0m in \u001b[0;36m<module>\u001b[0;34m\u001b[0m\n\u001b[0;32m----> 1\u001b[0;31m \u001b[0mdf\u001b[0m\u001b[0;34m\u001b[0m\u001b[0;34m\u001b[0m\u001b[0m\n\u001b[0m",
      "\u001b[0;31mNameError\u001b[0m: name 'df' is not defined"
     ]
    }
   ],
   "source": [
    "df = pd.read_csv(, index_col=None, header=0, sep='~~', engine='python')"
   ]
  },
  {
   "cell_type": "code",
   "execution_count": null,
   "metadata": {},
   "outputs": [],
   "source": [
    "# Delimiters for product string in order is: (1) ',' (2) ';'\n",
    "products = df.loc['Products'][0].strip()\n",
    "products = products.split(',')\n",
    "prostr = '\\n'\n",
    "\n",
    "# Dictionary of categories for product string.\n",
    "dictProducts = {0: 'Category : ',\n",
    "                1: 'Product  : ',\n",
    "                2: 'Quantity : ',\n",
    "                3: 'Price    : ',\n",
    "                4: 'Events   : ',\n",
    "                5: 'eVars    : '}\n",
    "\n",
    "count = 0\n",
    "for i in products:\n",
    "    # Add a new line to the string if it isn't the first item of the product.\n",
    "    prostr = prostr + ('' if (i == 0) else '\\n') + '    #'+ (str(count+1)) + '\\n'\n",
    "    item = i.split(';')\n",
    "\n",
    "    prodDict = []\n",
    "\n",
    "    countj = 0\n",
    "    for j in item:\n",
    "        # Map dictionary to product string components.\n",
    "        prostr = prostr + (('    ' + dictProducts[countj]) if countj<=5 else '    ')\n",
    "        prostr = prostr + j + '\\n'\n",
    "        countj = countj + 1\n",
    "    count = count + 1"
   ]
  },
  {
   "cell_type": "code",
   "execution_count": 27,
   "metadata": {},
   "outputs": [],
   "source": [
    "test = 'internetService;14_internet_300_bluecurve;1;150.00;event39=182|event40=182|event42=0|event43=32|event51=1|event41=150.00;eVar28=14_internet_300_bluecurve|eVar49=internetService|eVar48=internet 300 bluecurve|eVar39=acquisition|eVar26=2YVP|eVar47=24,tvService;14_bluesky_medium_tv;1;;event51=1;eVar28=14_bluesky_medium_tv|eVar49=tvService|eVar48=bluesky medium tv|eVar39=acquisition|eVar26=2YVP,hardware;14_additional_channels;1;;;eVar28=14_additional_channels|eVar49=hardware|eVar48=additional channels|eVar39=acquisition|eVar26=2YVP,Promo;14_450_online_credit;1;;event45=450;eVar28=14_450_online_credit|eVar49=Promo|eVar48=450 online credit|eVar39=acquisition|eVar68=PromoPricing,hardware;14_bluecurve_home_xb_6;1;;;eVar28=14_bluecurve_home_xb_6|eVar49=hardware|eVar48=bluecurve home xb 6|eVar39=acquisition|eVar26=2YVP'"
   ]
  },
  {
   "cell_type": "code",
   "execution_count": 32,
   "metadata": {},
   "outputs": [],
   "source": [
    "# Delimiters for product string in order is: (1) ',' (2) ';'\n",
    "products = test.strip()\n",
    "products = products.split(',')\n",
    "prostr = '\\n'\n",
    "\n",
    "# Dictionary of categories for product string.\n",
    "dictProducts = {0: 'Category : ',\n",
    "                1: 'Product  : ',\n",
    "                2: 'Quantity : ',\n",
    "                3: 'Price    : ',\n",
    "                4: 'Events   : ',\n",
    "                5: 'eVars    : '}\n",
    "\n",
    "count = 0\n",
    "prodDict = []\n",
    "\n",
    "for i in products:\n",
    "    # Add a new line to the string if it isn't the first item of the product.\n",
    "    prostr = prostr + ('' if (i == 0) else '\\n')\n",
    "    item = i.split(';')\n",
    "\n",
    "    countj = 0\n",
    "    for j in item:\n",
    "        # Map dictionary to product string components.\n",
    "        prostr = prostr + ((dictProducts[countj]) if countj<=5 else '    ')\n",
    "        prostr = prostr + j + '\\n'\n",
    "        prodDict.append(((dictProducts[countj]) if countj<=5 else '    ')+j)\n",
    "        countj = countj + 1\n",
    "    count = count + 1"
   ]
  },
  {
   "cell_type": "code",
   "execution_count": 33,
   "metadata": {},
   "outputs": [
    {
     "data": {
      "text/plain": [
       "['Category : internetService',\n",
       " 'Product  : 14_internet_300_bluecurve',\n",
       " 'Quantity : 1',\n",
       " 'Price    : 150.00',\n",
       " 'Events   : event39=182|event40=182|event42=0|event43=32|event51=1|event41=150.00',\n",
       " 'eVars    : eVar28=14_internet_300_bluecurve|eVar49=internetService|eVar48=internet 300 bluecurve|eVar39=acquisition|eVar26=2YVP|eVar47=24',\n",
       " 'Category : tvService',\n",
       " 'Product  : 14_bluesky_medium_tv',\n",
       " 'Quantity : 1',\n",
       " 'Price    : ',\n",
       " 'Events   : event51=1',\n",
       " 'eVars    : eVar28=14_bluesky_medium_tv|eVar49=tvService|eVar48=bluesky medium tv|eVar39=acquisition|eVar26=2YVP',\n",
       " 'Category : hardware',\n",
       " 'Product  : 14_additional_channels',\n",
       " 'Quantity : 1',\n",
       " 'Price    : ',\n",
       " 'Events   : ',\n",
       " 'eVars    : eVar28=14_additional_channels|eVar49=hardware|eVar48=additional channels|eVar39=acquisition|eVar26=2YVP',\n",
       " 'Category : Promo',\n",
       " 'Product  : 14_450_online_credit',\n",
       " 'Quantity : 1',\n",
       " 'Price    : ',\n",
       " 'Events   : event45=450',\n",
       " 'eVars    : eVar28=14_450_online_credit|eVar49=Promo|eVar48=450 online credit|eVar39=acquisition|eVar68=PromoPricing',\n",
       " 'Category : hardware',\n",
       " 'Product  : 14_bluecurve_home_xb_6',\n",
       " 'Quantity : 1',\n",
       " 'Price    : ',\n",
       " 'Events   : ',\n",
       " 'eVars    : eVar28=14_bluecurve_home_xb_6|eVar49=hardware|eVar48=bluecurve home xb 6|eVar39=acquisition|eVar26=2YVP']"
      ]
     },
     "execution_count": 33,
     "metadata": {},
     "output_type": "execute_result"
    }
   ],
   "source": [
    "prodDict"
   ]
  },
  {
   "cell_type": "code",
   "execution_count": 37,
   "metadata": {},
   "outputs": [
    {
     "data": {
      "text/plain": [
       "'Category '"
      ]
     },
     "execution_count": 37,
     "metadata": {},
     "output_type": "execute_result"
    }
   ],
   "source": [
    "prodDict[0][0:9]"
   ]
  },
  {
   "cell_type": "code",
   "execution_count": 38,
   "metadata": {},
   "outputs": [
    {
     "data": {
      "text/plain": [
       "'internetService'"
      ]
     },
     "execution_count": 38,
     "metadata": {},
     "output_type": "execute_result"
    }
   ],
   "source": [
    "prodDict[0][11:]"
   ]
  },
  {
   "cell_type": "code",
   "execution_count": null,
   "metadata": {},
   "outputs": [],
   "source": []
  }
 ],
 "metadata": {
  "kernelspec": {
   "display_name": "Python 3",
   "language": "python",
   "name": "python3"
  },
  "language_info": {
   "codemirror_mode": {
    "name": "ipython",
    "version": 3
   },
   "file_extension": ".py",
   "mimetype": "text/x-python",
   "name": "python",
   "nbconvert_exporter": "python",
   "pygments_lexer": "ipython3",
   "version": "3.7.3"
  }
 },
 "nbformat": 4,
 "nbformat_minor": 2
}

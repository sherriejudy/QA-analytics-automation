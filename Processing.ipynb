{
 "cells": [
  {
   "cell_type": "markdown",
   "metadata": {},
   "source": [
    "### CSV Prettifier\n",
    "\n",
    "- Input: path of raw CSV files.\n",
    "- Output: CSV (single sheet)/XLSX (multiple sheets) files with improved readability."
   ]
  },
  {
   "cell_type": "code",
   "execution_count": 7,
   "metadata": {},
   "outputs": [],
   "source": [
    "def CSV_prettifier(path):\n",
    "    \n",
    "    \"\"\"\n",
    "    Input: path of raw .csv files from adobe debugger extension.\n",
    "    (i.e. path = '/Users/[username]/Downloads')\n",
    "    Output: .xlsx file with individual sheets for every hit + summary sheet.\n",
    "    \"\"\"\n",
    "    \n",
    "    import pandas as pd\n",
    "    import numpy as np\n",
    "    import os\n",
    "    import glob\n",
    "    \n",
    "    # Read all csv files in specified path.\n",
    "    all_files = glob.glob1(path,\"*csv\")\n",
    "    \n",
    "    ep = pd.read_csv(path+ '/' +'Endpoints.csv', names=['Endpoints'])\n",
    "    dup_ep = ep\n",
    "    dup_ep['Success?'] = np.nan\n",
    "    \n",
    "    # Remove any csv files that aren't part of analytics output.\n",
    "    for file in all_files:\n",
    "        if file[0:24] == 'adobe-analytics-data-raw':\n",
    "            pass\n",
    "        else:\n",
    "            all_files.remove(file)\n",
    "        \n",
    "    li = []\n",
    "    di = {}\n",
    "    #failure = []\n",
    "    #success = []\n",
    "    \n",
    "    # Read csv files to pandas and append to `li` for summary page and `di` for indiv sheets.\n",
    "    for filename in all_files:\n",
    "        x = path+ '/' +filename\n",
    "        df = pd.read_csv(x, index_col=None, header=0, sep='~~', engine='python')\n",
    "        df.set_index('Report Suite ID    ', inplace=True)\n",
    "        li.append(df)\n",
    "        \n",
    "        # If URL is isn't in the endpoints file, FAILED.\n",
    "        url = df.loc['Current URL        '][0].strip()\n",
    "        if url[-1] == '/':\n",
    "            url = url[:-1]\n",
    "        else:\n",
    "            pass\n",
    "        if url not in list(ep['Endpoints']):\n",
    "            print('Failed:', url)\n",
    "            #failure.append(url)\n",
    "        else:\n",
    "            print('Success', url)\n",
    "            #success.append(url)\n",
    "            i = ep[ep['Endpoints'] == url].index\n",
    "            dup_ep['Success?'][i] = True\n",
    "            \n",
    "        \n",
    "        # Setting the name of each sheet to the webpage name.\n",
    "        if len(df.iloc[0][0]) <= 31:\n",
    "            di.update({ df.iloc[0][0] : df})\n",
    "        elif len(df.iloc[0][0]) > 31:\n",
    "            di.update({ 'home' : df})\n",
    "        \n",
    "        # Delete raw csv file after use.\n",
    "        #os.remove(x)\n",
    "    \n",
    "    # Concat list of dataframes to generate summary page.\n",
    "    frame = pd.concat(li, axis=1, sort='False')\n",
    "    di.update({'Summary' : frame})\n",
    "    \n",
    "    writer = pd.ExcelWriter(path+ '/' +'shaw-pageloads.xlsx', engine='xlsxwriter')\n",
    "    \n",
    "    # Write each sheet to .xlsx file.\n",
    "    for sheet in di.keys():\n",
    "        di[sheet].to_excel(writer, sheet_name=sheet, index=True)\n",
    "    \n",
    "    dup_ep.fillna('False')\n",
    "    dup_ep.to_csv(path+ '/' +'Endpoints-final.csv',index=False)\n",
    "    writer.save()"
   ]
  },
  {
   "cell_type": "code",
   "execution_count": 8,
   "metadata": {},
   "outputs": [],
   "source": [
    "path = '/Users/adekadam/Documents/GitHub/shaw-data-bot/hits'"
   ]
  },
  {
   "cell_type": "code",
   "execution_count": 9,
   "metadata": {},
   "outputs": [
    {
     "name": "stdout",
     "output_type": "stream",
     "text": [
      "Failed: https://signin.shaw.ca/idp/SSO.saml2\n",
      "Success https://community.shaw.ca\n",
      "Success https://test-ecommerce-discover-test-external.nonprod.dsl.aws.shaw.ca/bluecurve\n",
      "Success https://test-ecommerce-discover-test-external.nonprod.dsl.aws.shaw.ca/bluecurve/bluecurve-pods\n",
      "Success https://test-ecommerce-discover-test-external.nonprod.dsl.aws.shaw.ca\n"
     ]
    },
    {
     "name": "stderr",
     "output_type": "stream",
     "text": [
      "/anaconda3/lib/python3.7/site-packages/ipykernel_launcher.py:53: SettingWithCopyWarning: \n",
      "A value is trying to be set on a copy of a slice from a DataFrame\n",
      "\n",
      "See the caveats in the documentation: http://pandas.pydata.org/pandas-docs/stable/indexing.html#indexing-view-versus-copy\n"
     ]
    }
   ],
   "source": [
    "CSV_prettifier(path)"
   ]
  },
  {
   "cell_type": "code",
   "execution_count": null,
   "metadata": {},
   "outputs": [],
   "source": []
  }
 ],
 "metadata": {
  "kernelspec": {
   "display_name": "Python 3",
   "language": "python",
   "name": "python3"
  },
  "language_info": {
   "codemirror_mode": {
    "name": "ipython",
    "version": 3
   },
   "file_extension": ".py",
   "mimetype": "text/x-python",
   "name": "python",
   "nbconvert_exporter": "python",
   "pygments_lexer": "ipython3",
   "version": "3.7.3"
  }
 },
 "nbformat": 4,
 "nbformat_minor": 2
}
